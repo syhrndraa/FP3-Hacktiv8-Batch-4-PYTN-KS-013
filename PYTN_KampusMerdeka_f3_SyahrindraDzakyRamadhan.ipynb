{
  "cells": [
    {
      "cell_type": "markdown",
      "metadata": {
        "id": "Obx-5k_Qq0qq"
      },
      "source": [
        "---\n",
        "##**FINAL PROJECT 3 (KELOMPOK 6)**\n",
        "---"
      ]
    },
    {
      "cell_type": "markdown",
      "metadata": {
        "id": "3-8vW6d9q6gh"
      },
      "source": [
        ">Nama Anggota :\n",
        "- Rachma Lingga Maulidya    (PYTN-KS13-024)\n",
        "- Reza Pramudya Bagaskara   (PYTN-KS13-010)\n",
        "- Syahrindra Dzaky Ramadhan (PYTN-KS13-014)"
      ]
    },
    {
      "cell_type": "markdown",
      "metadata": {
        "id": "LDN-I2qe8X3b"
      },
      "source": [
        "---\n",
        "#**Perkenalan**\n",
        "---"
      ]
    },
    {
      "cell_type": "markdown",
      "metadata": {
        "id": "XFUS7kTt8exx"
      },
      "source": [
        "##**Latar Belakang**\n",
        "Gagal jantung adalah kejadian umum yang disebabkan oleh CVD. Penyakit kardiovaskular (CVDs) adalah penyebab kematian nomor 1 secara global, merenggut sekitar 17.9 juta nyawa setiap tahun, yang merupakan 31% dari semua kematian di seluruh dunia. Sebagian besar penyakit kardiovaskular dapat dicegah dengan mengatasi faktor risiko perilaku seperti penggunaan tembakau, pola makan yang tidak sehat dan obesitas, kurangnya aktivitas fisik, dan penggunaan alkohol yang berbahaya dengan menggunakan strategi populasi luas. Orang dengan penyakit kardiovaskular atau yang memiliki risiko kardiovaskular tinggi (karena adanya satu atau lebih faktor risiko seperti hipertensi, diabetes, hiperlipidemia, atau penyakit yang sudah ada) memerlukan deteksi dan penanganan dini di mana model pembelajaran mesin dapat sangat membantu."
      ]
    },
    {
      "cell_type": "markdown",
      "metadata": {
        "id": "986lM31C8m6t"
      },
      "source": [
        "##**Dataset**\n",
        "\n",
        "Dataset \"heart_failure_clinical_records_dataset.csv\" merupakan kumpulan data yang berisi 12 fitur yang dapat digunakan untuk memprediksi kematian akibat gagal jantung.\n",
        "\n",
        ">Dataset yang digunakan pada analisis ini yaitu Heart Failure Prediction. Dataset yang diunduh dari kaggle melalui link berikut _[rideshare_kaggle](https://www.kaggle.com/datasets/andrewmvd/heart-failure-clinical-data)_\n"
      ]
    },
    {
      "cell_type": "markdown",
      "metadata": {
        "id": "PzhnGkBoHmt1"
      },
      "source": [
        "##**Atribut Information**"
      ]
    },
    {
      "cell_type": "markdown",
      "metadata": {
        "id": "oGHmqkQRHrHJ"
      },
      "source": [
        "Adapun atribut pada data yang digunakan adalah sebagai berikut:\n",
        "1. age - umur pasien\n",
        "2. anaemia - apakah ada pengurangan haemoglobin\n",
        "3. creatinine_phosphokinase - level enzim CPK dalam mcg/L\n",
        "4. diabetes - apakah pasien punya riwayat diabetes\n",
        "5. ejection_fraction - persentase darah yang meninggalkan jantung dalam persentasi\n",
        "di setiap kontraksi jantung\n",
        "6. high_blood_pressure - apakah pasien punya darah tinggi\n",
        "7. platelets - jumlah platelet di darah dalam kiloplatelets/mL\n",
        "8. serum_creatinine - level serum creatinine di darah dalam mg/dL\n",
        "9. serum_sodium - level serum sodium di darah dalam mEq/L\n",
        "10. sex - apakah pasien pria atau wanita\n",
        "11. smoking - apakah pasien merokok\n",
        "12. time - waktu dalam hari untuk follow-up\n",
        "13. DEATH_EVENT - apakah pasien sudah meninggal saat waktu follow-up"
      ]
    },
    {
      "cell_type": "markdown",
      "metadata": {
        "id": "C7Itw65IIPhn"
      },
      "source": [
        "##**Project Objective**\n",
        "Final Project 3 ini dibuat guna mengevaluasi konsep Ensemble sebagai berikut:\n",
        "- Mampu memahami konsep Classification dengan Ensemble Model\n",
        "- Mampu mempersiapkan data untuk digunakan dalam Ensemble Model\n",
        "- Mampu mengimplementasikan Ensemble Model untuk membuat prediksi"
      ]
    },
    {
      "cell_type": "markdown",
      "metadata": {
        "id": "qzR8jASn9Gpw"
      },
      "source": [
        "---\n",
        "##**Import Library**\n",
        "---"
      ]
    },
    {
      "cell_type": "code",
      "execution_count": null,
      "metadata": {
        "id": "Tgtz19PqqOl7"
      },
      "outputs": [],
      "source": [
        "import pandas as pd\n",
        "import numpy as np\n",
        "import matplotlib.pyplot as plt\n",
        "import seaborn as sns\n",
        "\n",
        "from sklearn.preprocessing import LabelEncoder\n",
        "from sklearn.model_selection import train_test_split\n",
        "from sklearn import metrics\n",
        "from sklearn import preprocessing\n",
        "from sklearn.feature_selection import SelectKBest, f_regression\n",
        "from sklearn.ensemble import RandomForestClassifier, AdaBoostClassifier, VotingClassifier\n",
        "from sklearn.tree import DecisionTreeClassifier\n",
        "from sklearn.linear_model import LogisticRegression\n",
        "from sklearn.svm import SVC\n",
        "from sklearn.metrics import classification_report, confusion_matrix"
      ]
    },
    {
      "cell_type": "markdown",
      "metadata": {
        "id": "aVWqaJkD4yMt"
      },
      "source": [
        "---\n",
        "##**Data Loading**\n",
        "---"
      ]
    },
    {
      "cell_type": "code",
      "execution_count": null,
      "metadata": {
        "colab": {
          "base_uri": "https://localhost:8080/"
        },
        "id": "iG9zkGGE9Rp7",
        "outputId": "cf8064b6-f514-43d4-a2ef-224722f9ead3"
      },
      "outputs": [
        {
          "output_type": "stream",
          "name": "stdout",
          "text": [
            "Drive already mounted at /content/drive/; to attempt to forcibly remount, call drive.mount(\"/content/drive/\", force_remount=True).\n"
          ]
        }
      ],
      "source": [
        "#Melakukan loading data dengan menggunakan pandas\n",
        "from google.colab import drive\n",
        "drive.mount('/content/drive/')"
      ]
    },
    {
      "cell_type": "code",
      "execution_count": null,
      "metadata": {
        "colab": {
          "base_uri": "https://localhost:8080/",
          "height": 423
        },
        "id": "9hvQBFfvBOw5",
        "outputId": "008a0214-1172-4484-e9ee-418084493dbf"
      },
      "outputs": [
        {
          "output_type": "execute_result",
          "data": {
            "text/plain": [
              "      age  anaemia  creatinine_phosphokinase  diabetes  ejection_fraction  \\\n",
              "0    75.0        0                       582         0                 20   \n",
              "1    55.0        0                      7861         0                 38   \n",
              "2    65.0        0                       146         0                 20   \n",
              "3    50.0        1                       111         0                 20   \n",
              "4    65.0        1                       160         1                 20   \n",
              "..    ...      ...                       ...       ...                ...   \n",
              "294  62.0        0                        61         1                 38   \n",
              "295  55.0        0                      1820         0                 38   \n",
              "296  45.0        0                      2060         1                 60   \n",
              "297  45.0        0                      2413         0                 38   \n",
              "298  50.0        0                       196         0                 45   \n",
              "\n",
              "     high_blood_pressure  platelets  serum_creatinine  serum_sodium  sex  \\\n",
              "0                      1  265000.00               1.9           130    1   \n",
              "1                      0  263358.03               1.1           136    1   \n",
              "2                      0  162000.00               1.3           129    1   \n",
              "3                      0  210000.00               1.9           137    1   \n",
              "4                      0  327000.00               2.7           116    0   \n",
              "..                   ...        ...               ...           ...  ...   \n",
              "294                    1  155000.00               1.1           143    1   \n",
              "295                    0  270000.00               1.2           139    0   \n",
              "296                    0  742000.00               0.8           138    0   \n",
              "297                    0  140000.00               1.4           140    1   \n",
              "298                    0  395000.00               1.6           136    1   \n",
              "\n",
              "     smoking  time  DEATH_EVENT  \n",
              "0          0     4            1  \n",
              "1          0     6            1  \n",
              "2          1     7            1  \n",
              "3          0     7            1  \n",
              "4          0     8            1  \n",
              "..       ...   ...          ...  \n",
              "294        1   270            0  \n",
              "295        0   271            0  \n",
              "296        0   278            0  \n",
              "297        1   280            0  \n",
              "298        1   285            0  \n",
              "\n",
              "[299 rows x 13 columns]"
            ],
            "text/html": [
              "\n",
              "  <div id=\"df-b6515238-a7a6-4fec-9747-d940a6c1b893\">\n",
              "    <div class=\"colab-df-container\">\n",
              "      <div>\n",
              "<style scoped>\n",
              "    .dataframe tbody tr th:only-of-type {\n",
              "        vertical-align: middle;\n",
              "    }\n",
              "\n",
              "    .dataframe tbody tr th {\n",
              "        vertical-align: top;\n",
              "    }\n",
              "\n",
              "    .dataframe thead th {\n",
              "        text-align: right;\n",
              "    }\n",
              "</style>\n",
              "<table border=\"1\" class=\"dataframe\">\n",
              "  <thead>\n",
              "    <tr style=\"text-align: right;\">\n",
              "      <th></th>\n",
              "      <th>age</th>\n",
              "      <th>anaemia</th>\n",
              "      <th>creatinine_phosphokinase</th>\n",
              "      <th>diabetes</th>\n",
              "      <th>ejection_fraction</th>\n",
              "      <th>high_blood_pressure</th>\n",
              "      <th>platelets</th>\n",
              "      <th>serum_creatinine</th>\n",
              "      <th>serum_sodium</th>\n",
              "      <th>sex</th>\n",
              "      <th>smoking</th>\n",
              "      <th>time</th>\n",
              "      <th>DEATH_EVENT</th>\n",
              "    </tr>\n",
              "  </thead>\n",
              "  <tbody>\n",
              "    <tr>\n",
              "      <th>0</th>\n",
              "      <td>75.0</td>\n",
              "      <td>0</td>\n",
              "      <td>582</td>\n",
              "      <td>0</td>\n",
              "      <td>20</td>\n",
              "      <td>1</td>\n",
              "      <td>265000.00</td>\n",
              "      <td>1.9</td>\n",
              "      <td>130</td>\n",
              "      <td>1</td>\n",
              "      <td>0</td>\n",
              "      <td>4</td>\n",
              "      <td>1</td>\n",
              "    </tr>\n",
              "    <tr>\n",
              "      <th>1</th>\n",
              "      <td>55.0</td>\n",
              "      <td>0</td>\n",
              "      <td>7861</td>\n",
              "      <td>0</td>\n",
              "      <td>38</td>\n",
              "      <td>0</td>\n",
              "      <td>263358.03</td>\n",
              "      <td>1.1</td>\n",
              "      <td>136</td>\n",
              "      <td>1</td>\n",
              "      <td>0</td>\n",
              "      <td>6</td>\n",
              "      <td>1</td>\n",
              "    </tr>\n",
              "    <tr>\n",
              "      <th>2</th>\n",
              "      <td>65.0</td>\n",
              "      <td>0</td>\n",
              "      <td>146</td>\n",
              "      <td>0</td>\n",
              "      <td>20</td>\n",
              "      <td>0</td>\n",
              "      <td>162000.00</td>\n",
              "      <td>1.3</td>\n",
              "      <td>129</td>\n",
              "      <td>1</td>\n",
              "      <td>1</td>\n",
              "      <td>7</td>\n",
              "      <td>1</td>\n",
              "    </tr>\n",
              "    <tr>\n",
              "      <th>3</th>\n",
              "      <td>50.0</td>\n",
              "      <td>1</td>\n",
              "      <td>111</td>\n",
              "      <td>0</td>\n",
              "      <td>20</td>\n",
              "      <td>0</td>\n",
              "      <td>210000.00</td>\n",
              "      <td>1.9</td>\n",
              "      <td>137</td>\n",
              "      <td>1</td>\n",
              "      <td>0</td>\n",
              "      <td>7</td>\n",
              "      <td>1</td>\n",
              "    </tr>\n",
              "    <tr>\n",
              "      <th>4</th>\n",
              "      <td>65.0</td>\n",
              "      <td>1</td>\n",
              "      <td>160</td>\n",
              "      <td>1</td>\n",
              "      <td>20</td>\n",
              "      <td>0</td>\n",
              "      <td>327000.00</td>\n",
              "      <td>2.7</td>\n",
              "      <td>116</td>\n",
              "      <td>0</td>\n",
              "      <td>0</td>\n",
              "      <td>8</td>\n",
              "      <td>1</td>\n",
              "    </tr>\n",
              "    <tr>\n",
              "      <th>...</th>\n",
              "      <td>...</td>\n",
              "      <td>...</td>\n",
              "      <td>...</td>\n",
              "      <td>...</td>\n",
              "      <td>...</td>\n",
              "      <td>...</td>\n",
              "      <td>...</td>\n",
              "      <td>...</td>\n",
              "      <td>...</td>\n",
              "      <td>...</td>\n",
              "      <td>...</td>\n",
              "      <td>...</td>\n",
              "      <td>...</td>\n",
              "    </tr>\n",
              "    <tr>\n",
              "      <th>294</th>\n",
              "      <td>62.0</td>\n",
              "      <td>0</td>\n",
              "      <td>61</td>\n",
              "      <td>1</td>\n",
              "      <td>38</td>\n",
              "      <td>1</td>\n",
              "      <td>155000.00</td>\n",
              "      <td>1.1</td>\n",
              "      <td>143</td>\n",
              "      <td>1</td>\n",
              "      <td>1</td>\n",
              "      <td>270</td>\n",
              "      <td>0</td>\n",
              "    </tr>\n",
              "    <tr>\n",
              "      <th>295</th>\n",
              "      <td>55.0</td>\n",
              "      <td>0</td>\n",
              "      <td>1820</td>\n",
              "      <td>0</td>\n",
              "      <td>38</td>\n",
              "      <td>0</td>\n",
              "      <td>270000.00</td>\n",
              "      <td>1.2</td>\n",
              "      <td>139</td>\n",
              "      <td>0</td>\n",
              "      <td>0</td>\n",
              "      <td>271</td>\n",
              "      <td>0</td>\n",
              "    </tr>\n",
              "    <tr>\n",
              "      <th>296</th>\n",
              "      <td>45.0</td>\n",
              "      <td>0</td>\n",
              "      <td>2060</td>\n",
              "      <td>1</td>\n",
              "      <td>60</td>\n",
              "      <td>0</td>\n",
              "      <td>742000.00</td>\n",
              "      <td>0.8</td>\n",
              "      <td>138</td>\n",
              "      <td>0</td>\n",
              "      <td>0</td>\n",
              "      <td>278</td>\n",
              "      <td>0</td>\n",
              "    </tr>\n",
              "    <tr>\n",
              "      <th>297</th>\n",
              "      <td>45.0</td>\n",
              "      <td>0</td>\n",
              "      <td>2413</td>\n",
              "      <td>0</td>\n",
              "      <td>38</td>\n",
              "      <td>0</td>\n",
              "      <td>140000.00</td>\n",
              "      <td>1.4</td>\n",
              "      <td>140</td>\n",
              "      <td>1</td>\n",
              "      <td>1</td>\n",
              "      <td>280</td>\n",
              "      <td>0</td>\n",
              "    </tr>\n",
              "    <tr>\n",
              "      <th>298</th>\n",
              "      <td>50.0</td>\n",
              "      <td>0</td>\n",
              "      <td>196</td>\n",
              "      <td>0</td>\n",
              "      <td>45</td>\n",
              "      <td>0</td>\n",
              "      <td>395000.00</td>\n",
              "      <td>1.6</td>\n",
              "      <td>136</td>\n",
              "      <td>1</td>\n",
              "      <td>1</td>\n",
              "      <td>285</td>\n",
              "      <td>0</td>\n",
              "    </tr>\n",
              "  </tbody>\n",
              "</table>\n",
              "<p>299 rows × 13 columns</p>\n",
              "</div>\n",
              "      <button class=\"colab-df-convert\" onclick=\"convertToInteractive('df-b6515238-a7a6-4fec-9747-d940a6c1b893')\"\n",
              "              title=\"Convert this dataframe to an interactive table.\"\n",
              "              style=\"display:none;\">\n",
              "        \n",
              "  <svg xmlns=\"http://www.w3.org/2000/svg\" height=\"24px\"viewBox=\"0 0 24 24\"\n",
              "       width=\"24px\">\n",
              "    <path d=\"M0 0h24v24H0V0z\" fill=\"none\"/>\n",
              "    <path d=\"M18.56 5.44l.94 2.06.94-2.06 2.06-.94-2.06-.94-.94-2.06-.94 2.06-2.06.94zm-11 1L8.5 8.5l.94-2.06 2.06-.94-2.06-.94L8.5 2.5l-.94 2.06-2.06.94zm10 10l.94 2.06.94-2.06 2.06-.94-2.06-.94-.94-2.06-.94 2.06-2.06.94z\"/><path d=\"M17.41 7.96l-1.37-1.37c-.4-.4-.92-.59-1.43-.59-.52 0-1.04.2-1.43.59L10.3 9.45l-7.72 7.72c-.78.78-.78 2.05 0 2.83L4 21.41c.39.39.9.59 1.41.59.51 0 1.02-.2 1.41-.59l7.78-7.78 2.81-2.81c.8-.78.8-2.07 0-2.86zM5.41 20L4 18.59l7.72-7.72 1.47 1.35L5.41 20z\"/>\n",
              "  </svg>\n",
              "      </button>\n",
              "      \n",
              "  <style>\n",
              "    .colab-df-container {\n",
              "      display:flex;\n",
              "      flex-wrap:wrap;\n",
              "      gap: 12px;\n",
              "    }\n",
              "\n",
              "    .colab-df-convert {\n",
              "      background-color: #E8F0FE;\n",
              "      border: none;\n",
              "      border-radius: 50%;\n",
              "      cursor: pointer;\n",
              "      display: none;\n",
              "      fill: #1967D2;\n",
              "      height: 32px;\n",
              "      padding: 0 0 0 0;\n",
              "      width: 32px;\n",
              "    }\n",
              "\n",
              "    .colab-df-convert:hover {\n",
              "      background-color: #E2EBFA;\n",
              "      box-shadow: 0px 1px 2px rgba(60, 64, 67, 0.3), 0px 1px 3px 1px rgba(60, 64, 67, 0.15);\n",
              "      fill: #174EA6;\n",
              "    }\n",
              "\n",
              "    [theme=dark] .colab-df-convert {\n",
              "      background-color: #3B4455;\n",
              "      fill: #D2E3FC;\n",
              "    }\n",
              "\n",
              "    [theme=dark] .colab-df-convert:hover {\n",
              "      background-color: #434B5C;\n",
              "      box-shadow: 0px 1px 3px 1px rgba(0, 0, 0, 0.15);\n",
              "      filter: drop-shadow(0px 1px 2px rgba(0, 0, 0, 0.3));\n",
              "      fill: #FFFFFF;\n",
              "    }\n",
              "  </style>\n",
              "\n",
              "      <script>\n",
              "        const buttonEl =\n",
              "          document.querySelector('#df-b6515238-a7a6-4fec-9747-d940a6c1b893 button.colab-df-convert');\n",
              "        buttonEl.style.display =\n",
              "          google.colab.kernel.accessAllowed ? 'block' : 'none';\n",
              "\n",
              "        async function convertToInteractive(key) {\n",
              "          const element = document.querySelector('#df-b6515238-a7a6-4fec-9747-d940a6c1b893');\n",
              "          const dataTable =\n",
              "            await google.colab.kernel.invokeFunction('convertToInteractive',\n",
              "                                                     [key], {});\n",
              "          if (!dataTable) return;\n",
              "\n",
              "          const docLinkHtml = 'Like what you see? Visit the ' +\n",
              "            '<a target=\"_blank\" href=https://colab.research.google.com/notebooks/data_table.ipynb>data table notebook</a>'\n",
              "            + ' to learn more about interactive tables.';\n",
              "          element.innerHTML = '';\n",
              "          dataTable['output_type'] = 'display_data';\n",
              "          await google.colab.output.renderOutput(dataTable, element);\n",
              "          const docLink = document.createElement('div');\n",
              "          docLink.innerHTML = docLinkHtml;\n",
              "          element.appendChild(docLink);\n",
              "        }\n",
              "      </script>\n",
              "    </div>\n",
              "  </div>\n",
              "  "
            ]
          },
          "metadata": {},
          "execution_count": 51
        }
      ],
      "source": [
        "#Melakukan setting untuk menampilkan semua kolom pada dataframe serta menampilkan data\n",
        "pd.set_option(\"display.max_columns\", None)\n",
        "df = pd.read_csv('/content/drive/MyDrive/Colab Notebooks/heart_failure_clinical_records_dataset_3.csv')\n",
        "df"
      ]
    },
    {
      "cell_type": "code",
      "execution_count": null,
      "metadata": {
        "colab": {
          "base_uri": "https://localhost:8080/"
        },
        "id": "mrMZvt6HBURv",
        "outputId": "faba568c-0c73-4672-a069-b40dbdb93b7f"
      },
      "outputs": [
        {
          "output_type": "execute_result",
          "data": {
            "text/plain": [
              "(299, 13)"
            ]
          },
          "metadata": {},
          "execution_count": 52
        }
      ],
      "source": [
        "#Melihat dimensi data\n",
        "df.shape"
      ]
    },
    {
      "cell_type": "markdown",
      "metadata": {
        "id": "AnIggjft5FX-"
      },
      "source": [
        "Dapat dilihat bahwa pada data yang digunakan terdapat 299 baris dan 13 kolom."
      ]
    },
    {
      "cell_type": "code",
      "execution_count": null,
      "metadata": {
        "colab": {
          "base_uri": "https://localhost:8080/"
        },
        "id": "93EyID7JBXRS",
        "outputId": "82d72a24-f020-4ad6-bc84-113a7cca14ad"
      },
      "outputs": [
        {
          "output_type": "stream",
          "name": "stdout",
          "text": [
            "<class 'pandas.core.frame.DataFrame'>\n",
            "RangeIndex: 299 entries, 0 to 298\n",
            "Data columns (total 13 columns):\n",
            " #   Column                    Non-Null Count  Dtype  \n",
            "---  ------                    --------------  -----  \n",
            " 0   age                       299 non-null    float64\n",
            " 1   anaemia                   299 non-null    int64  \n",
            " 2   creatinine_phosphokinase  299 non-null    int64  \n",
            " 3   diabetes                  299 non-null    int64  \n",
            " 4   ejection_fraction         299 non-null    int64  \n",
            " 5   high_blood_pressure       299 non-null    int64  \n",
            " 6   platelets                 299 non-null    float64\n",
            " 7   serum_creatinine          299 non-null    float64\n",
            " 8   serum_sodium              299 non-null    int64  \n",
            " 9   sex                       299 non-null    int64  \n",
            " 10  smoking                   299 non-null    int64  \n",
            " 11  time                      299 non-null    int64  \n",
            " 12  DEATH_EVENT               299 non-null    int64  \n",
            "dtypes: float64(3), int64(10)\n",
            "memory usage: 30.5 KB\n"
          ]
        }
      ],
      "source": [
        "#Melihat informasi (kolom, baris, tipe data) pada dataset\n",
        "df.info()"
      ]
    },
    {
      "cell_type": "code",
      "execution_count": null,
      "metadata": {
        "colab": {
          "base_uri": "https://localhost:8080/"
        },
        "id": "38Mr6k1sBZC0",
        "outputId": "566f2a08-6f2a-431f-f1b1-44ce89a12ca4"
      },
      "outputs": [
        {
          "output_type": "stream",
          "name": "stdout",
          "text": [
            "age :  47\n",
            "anaemia :  2\n",
            "creatinine_phosphokinase :  208\n",
            "diabetes :  2\n",
            "ejection_fraction :  17\n",
            "high_blood_pressure :  2\n",
            "platelets :  176\n",
            "serum_creatinine :  40\n",
            "serum_sodium :  27\n",
            "sex :  2\n",
            "smoking :  2\n",
            "time :  148\n",
            "DEATH_EVENT :  2\n"
          ]
        }
      ],
      "source": [
        "#Melihat banyaknya unique value\n",
        "for col in df.columns:\n",
        "    print(col,': ', df[col].nunique())"
      ]
    },
    {
      "cell_type": "code",
      "execution_count": null,
      "metadata": {
        "colab": {
          "base_uri": "https://localhost:8080/",
          "height": 364
        },
        "id": "ngvdD48JBbmb",
        "outputId": "55d4edd5-252f-41fd-90d7-61562eb67283"
      },
      "outputs": [
        {
          "output_type": "execute_result",
          "data": {
            "text/plain": [
              "              age     anaemia  creatinine_phosphokinase    diabetes  \\\n",
              "count  299.000000  299.000000                299.000000  299.000000   \n",
              "mean    60.833893    0.431438                581.839465    0.418060   \n",
              "std     11.894809    0.496107                970.287881    0.494067   \n",
              "min     40.000000    0.000000                 23.000000    0.000000   \n",
              "25%     51.000000    0.000000                116.500000    0.000000   \n",
              "50%     60.000000    0.000000                250.000000    0.000000   \n",
              "75%     70.000000    1.000000                582.000000    1.000000   \n",
              "max     95.000000    1.000000               7861.000000    1.000000   \n",
              "\n",
              "       ejection_fraction  high_blood_pressure      platelets  \\\n",
              "count         299.000000           299.000000     299.000000   \n",
              "mean           38.083612             0.351171  263358.029264   \n",
              "std            11.834841             0.478136   97804.236869   \n",
              "min            14.000000             0.000000   25100.000000   \n",
              "25%            30.000000             0.000000  212500.000000   \n",
              "50%            38.000000             0.000000  262000.000000   \n",
              "75%            45.000000             1.000000  303500.000000   \n",
              "max            80.000000             1.000000  850000.000000   \n",
              "\n",
              "       serum_creatinine  serum_sodium         sex    smoking        time  \\\n",
              "count         299.00000    299.000000  299.000000  299.00000  299.000000   \n",
              "mean            1.39388    136.625418    0.648829    0.32107  130.260870   \n",
              "std             1.03451      4.412477    0.478136    0.46767   77.614208   \n",
              "min             0.50000    113.000000    0.000000    0.00000    4.000000   \n",
              "25%             0.90000    134.000000    0.000000    0.00000   73.000000   \n",
              "50%             1.10000    137.000000    1.000000    0.00000  115.000000   \n",
              "75%             1.40000    140.000000    1.000000    1.00000  203.000000   \n",
              "max             9.40000    148.000000    1.000000    1.00000  285.000000   \n",
              "\n",
              "       DEATH_EVENT  \n",
              "count    299.00000  \n",
              "mean       0.32107  \n",
              "std        0.46767  \n",
              "min        0.00000  \n",
              "25%        0.00000  \n",
              "50%        0.00000  \n",
              "75%        1.00000  \n",
              "max        1.00000  "
            ],
            "text/html": [
              "\n",
              "  <div id=\"df-b47b8cfc-57e5-4dce-ad8d-af27b345497a\">\n",
              "    <div class=\"colab-df-container\">\n",
              "      <div>\n",
              "<style scoped>\n",
              "    .dataframe tbody tr th:only-of-type {\n",
              "        vertical-align: middle;\n",
              "    }\n",
              "\n",
              "    .dataframe tbody tr th {\n",
              "        vertical-align: top;\n",
              "    }\n",
              "\n",
              "    .dataframe thead th {\n",
              "        text-align: right;\n",
              "    }\n",
              "</style>\n",
              "<table border=\"1\" class=\"dataframe\">\n",
              "  <thead>\n",
              "    <tr style=\"text-align: right;\">\n",
              "      <th></th>\n",
              "      <th>age</th>\n",
              "      <th>anaemia</th>\n",
              "      <th>creatinine_phosphokinase</th>\n",
              "      <th>diabetes</th>\n",
              "      <th>ejection_fraction</th>\n",
              "      <th>high_blood_pressure</th>\n",
              "      <th>platelets</th>\n",
              "      <th>serum_creatinine</th>\n",
              "      <th>serum_sodium</th>\n",
              "      <th>sex</th>\n",
              "      <th>smoking</th>\n",
              "      <th>time</th>\n",
              "      <th>DEATH_EVENT</th>\n",
              "    </tr>\n",
              "  </thead>\n",
              "  <tbody>\n",
              "    <tr>\n",
              "      <th>count</th>\n",
              "      <td>299.000000</td>\n",
              "      <td>299.000000</td>\n",
              "      <td>299.000000</td>\n",
              "      <td>299.000000</td>\n",
              "      <td>299.000000</td>\n",
              "      <td>299.000000</td>\n",
              "      <td>299.000000</td>\n",
              "      <td>299.00000</td>\n",
              "      <td>299.000000</td>\n",
              "      <td>299.000000</td>\n",
              "      <td>299.00000</td>\n",
              "      <td>299.000000</td>\n",
              "      <td>299.00000</td>\n",
              "    </tr>\n",
              "    <tr>\n",
              "      <th>mean</th>\n",
              "      <td>60.833893</td>\n",
              "      <td>0.431438</td>\n",
              "      <td>581.839465</td>\n",
              "      <td>0.418060</td>\n",
              "      <td>38.083612</td>\n",
              "      <td>0.351171</td>\n",
              "      <td>263358.029264</td>\n",
              "      <td>1.39388</td>\n",
              "      <td>136.625418</td>\n",
              "      <td>0.648829</td>\n",
              "      <td>0.32107</td>\n",
              "      <td>130.260870</td>\n",
              "      <td>0.32107</td>\n",
              "    </tr>\n",
              "    <tr>\n",
              "      <th>std</th>\n",
              "      <td>11.894809</td>\n",
              "      <td>0.496107</td>\n",
              "      <td>970.287881</td>\n",
              "      <td>0.494067</td>\n",
              "      <td>11.834841</td>\n",
              "      <td>0.478136</td>\n",
              "      <td>97804.236869</td>\n",
              "      <td>1.03451</td>\n",
              "      <td>4.412477</td>\n",
              "      <td>0.478136</td>\n",
              "      <td>0.46767</td>\n",
              "      <td>77.614208</td>\n",
              "      <td>0.46767</td>\n",
              "    </tr>\n",
              "    <tr>\n",
              "      <th>min</th>\n",
              "      <td>40.000000</td>\n",
              "      <td>0.000000</td>\n",
              "      <td>23.000000</td>\n",
              "      <td>0.000000</td>\n",
              "      <td>14.000000</td>\n",
              "      <td>0.000000</td>\n",
              "      <td>25100.000000</td>\n",
              "      <td>0.50000</td>\n",
              "      <td>113.000000</td>\n",
              "      <td>0.000000</td>\n",
              "      <td>0.00000</td>\n",
              "      <td>4.000000</td>\n",
              "      <td>0.00000</td>\n",
              "    </tr>\n",
              "    <tr>\n",
              "      <th>25%</th>\n",
              "      <td>51.000000</td>\n",
              "      <td>0.000000</td>\n",
              "      <td>116.500000</td>\n",
              "      <td>0.000000</td>\n",
              "      <td>30.000000</td>\n",
              "      <td>0.000000</td>\n",
              "      <td>212500.000000</td>\n",
              "      <td>0.90000</td>\n",
              "      <td>134.000000</td>\n",
              "      <td>0.000000</td>\n",
              "      <td>0.00000</td>\n",
              "      <td>73.000000</td>\n",
              "      <td>0.00000</td>\n",
              "    </tr>\n",
              "    <tr>\n",
              "      <th>50%</th>\n",
              "      <td>60.000000</td>\n",
              "      <td>0.000000</td>\n",
              "      <td>250.000000</td>\n",
              "      <td>0.000000</td>\n",
              "      <td>38.000000</td>\n",
              "      <td>0.000000</td>\n",
              "      <td>262000.000000</td>\n",
              "      <td>1.10000</td>\n",
              "      <td>137.000000</td>\n",
              "      <td>1.000000</td>\n",
              "      <td>0.00000</td>\n",
              "      <td>115.000000</td>\n",
              "      <td>0.00000</td>\n",
              "    </tr>\n",
              "    <tr>\n",
              "      <th>75%</th>\n",
              "      <td>70.000000</td>\n",
              "      <td>1.000000</td>\n",
              "      <td>582.000000</td>\n",
              "      <td>1.000000</td>\n",
              "      <td>45.000000</td>\n",
              "      <td>1.000000</td>\n",
              "      <td>303500.000000</td>\n",
              "      <td>1.40000</td>\n",
              "      <td>140.000000</td>\n",
              "      <td>1.000000</td>\n",
              "      <td>1.00000</td>\n",
              "      <td>203.000000</td>\n",
              "      <td>1.00000</td>\n",
              "    </tr>\n",
              "    <tr>\n",
              "      <th>max</th>\n",
              "      <td>95.000000</td>\n",
              "      <td>1.000000</td>\n",
              "      <td>7861.000000</td>\n",
              "      <td>1.000000</td>\n",
              "      <td>80.000000</td>\n",
              "      <td>1.000000</td>\n",
              "      <td>850000.000000</td>\n",
              "      <td>9.40000</td>\n",
              "      <td>148.000000</td>\n",
              "      <td>1.000000</td>\n",
              "      <td>1.00000</td>\n",
              "      <td>285.000000</td>\n",
              "      <td>1.00000</td>\n",
              "    </tr>\n",
              "  </tbody>\n",
              "</table>\n",
              "</div>\n",
              "      <button class=\"colab-df-convert\" onclick=\"convertToInteractive('df-b47b8cfc-57e5-4dce-ad8d-af27b345497a')\"\n",
              "              title=\"Convert this dataframe to an interactive table.\"\n",
              "              style=\"display:none;\">\n",
              "        \n",
              "  <svg xmlns=\"http://www.w3.org/2000/svg\" height=\"24px\"viewBox=\"0 0 24 24\"\n",
              "       width=\"24px\">\n",
              "    <path d=\"M0 0h24v24H0V0z\" fill=\"none\"/>\n",
              "    <path d=\"M18.56 5.44l.94 2.06.94-2.06 2.06-.94-2.06-.94-.94-2.06-.94 2.06-2.06.94zm-11 1L8.5 8.5l.94-2.06 2.06-.94-2.06-.94L8.5 2.5l-.94 2.06-2.06.94zm10 10l.94 2.06.94-2.06 2.06-.94-2.06-.94-.94-2.06-.94 2.06-2.06.94z\"/><path d=\"M17.41 7.96l-1.37-1.37c-.4-.4-.92-.59-1.43-.59-.52 0-1.04.2-1.43.59L10.3 9.45l-7.72 7.72c-.78.78-.78 2.05 0 2.83L4 21.41c.39.39.9.59 1.41.59.51 0 1.02-.2 1.41-.59l7.78-7.78 2.81-2.81c.8-.78.8-2.07 0-2.86zM5.41 20L4 18.59l7.72-7.72 1.47 1.35L5.41 20z\"/>\n",
              "  </svg>\n",
              "      </button>\n",
              "      \n",
              "  <style>\n",
              "    .colab-df-container {\n",
              "      display:flex;\n",
              "      flex-wrap:wrap;\n",
              "      gap: 12px;\n",
              "    }\n",
              "\n",
              "    .colab-df-convert {\n",
              "      background-color: #E8F0FE;\n",
              "      border: none;\n",
              "      border-radius: 50%;\n",
              "      cursor: pointer;\n",
              "      display: none;\n",
              "      fill: #1967D2;\n",
              "      height: 32px;\n",
              "      padding: 0 0 0 0;\n",
              "      width: 32px;\n",
              "    }\n",
              "\n",
              "    .colab-df-convert:hover {\n",
              "      background-color: #E2EBFA;\n",
              "      box-shadow: 0px 1px 2px rgba(60, 64, 67, 0.3), 0px 1px 3px 1px rgba(60, 64, 67, 0.15);\n",
              "      fill: #174EA6;\n",
              "    }\n",
              "\n",
              "    [theme=dark] .colab-df-convert {\n",
              "      background-color: #3B4455;\n",
              "      fill: #D2E3FC;\n",
              "    }\n",
              "\n",
              "    [theme=dark] .colab-df-convert:hover {\n",
              "      background-color: #434B5C;\n",
              "      box-shadow: 0px 1px 3px 1px rgba(0, 0, 0, 0.15);\n",
              "      filter: drop-shadow(0px 1px 2px rgba(0, 0, 0, 0.3));\n",
              "      fill: #FFFFFF;\n",
              "    }\n",
              "  </style>\n",
              "\n",
              "      <script>\n",
              "        const buttonEl =\n",
              "          document.querySelector('#df-b47b8cfc-57e5-4dce-ad8d-af27b345497a button.colab-df-convert');\n",
              "        buttonEl.style.display =\n",
              "          google.colab.kernel.accessAllowed ? 'block' : 'none';\n",
              "\n",
              "        async function convertToInteractive(key) {\n",
              "          const element = document.querySelector('#df-b47b8cfc-57e5-4dce-ad8d-af27b345497a');\n",
              "          const dataTable =\n",
              "            await google.colab.kernel.invokeFunction('convertToInteractive',\n",
              "                                                     [key], {});\n",
              "          if (!dataTable) return;\n",
              "\n",
              "          const docLinkHtml = 'Like what you see? Visit the ' +\n",
              "            '<a target=\"_blank\" href=https://colab.research.google.com/notebooks/data_table.ipynb>data table notebook</a>'\n",
              "            + ' to learn more about interactive tables.';\n",
              "          element.innerHTML = '';\n",
              "          dataTable['output_type'] = 'display_data';\n",
              "          await google.colab.output.renderOutput(dataTable, element);\n",
              "          const docLink = document.createElement('div');\n",
              "          docLink.innerHTML = docLinkHtml;\n",
              "          element.appendChild(docLink);\n",
              "        }\n",
              "      </script>\n",
              "    </div>\n",
              "  </div>\n",
              "  "
            ]
          },
          "metadata": {},
          "execution_count": 55
        }
      ],
      "source": [
        "#Melihat statistik deskriptif dari masing-masing atribut\n",
        "df.describe()"
      ]
    },
    {
      "cell_type": "code",
      "execution_count": null,
      "metadata": {
        "colab": {
          "base_uri": "https://localhost:8080/",
          "height": 175
        },
        "id": "JAkLShSlAFXY",
        "outputId": "990de774-acba-4087-a50c-1c085b31800f"
      },
      "outputs": [
        {
          "output_type": "execute_result",
          "data": {
            "text/plain": [
              "          age  anaemia  creatinine_phosphokinase  diabetes  ejection_fraction  \\\n",
              "count   299.0      299                       299       299                299   \n",
              "unique   47.0        2                       208         2                 17   \n",
              "top      60.0        0                       582         0                 35   \n",
              "freq     33.0      170                        47       174                 49   \n",
              "\n",
              "        high_blood_pressure  platelets  serum_creatinine  serum_sodium  sex  \\\n",
              "count                   299     299.00             299.0           299  299   \n",
              "unique                    2     176.00              40.0            27    2   \n",
              "top                       0  263358.03               1.0           136    1   \n",
              "freq                    194      25.00              50.0            40  194   \n",
              "\n",
              "        smoking  time  DEATH_EVENT  \n",
              "count       299   299          299  \n",
              "unique        2   148            2  \n",
              "top           0   250            0  \n",
              "freq        203     7          203  "
            ],
            "text/html": [
              "\n",
              "  <div id=\"df-85e3f686-fd40-4764-984c-5a12cc89db1e\">\n",
              "    <div class=\"colab-df-container\">\n",
              "      <div>\n",
              "<style scoped>\n",
              "    .dataframe tbody tr th:only-of-type {\n",
              "        vertical-align: middle;\n",
              "    }\n",
              "\n",
              "    .dataframe tbody tr th {\n",
              "        vertical-align: top;\n",
              "    }\n",
              "\n",
              "    .dataframe thead th {\n",
              "        text-align: right;\n",
              "    }\n",
              "</style>\n",
              "<table border=\"1\" class=\"dataframe\">\n",
              "  <thead>\n",
              "    <tr style=\"text-align: right;\">\n",
              "      <th></th>\n",
              "      <th>age</th>\n",
              "      <th>anaemia</th>\n",
              "      <th>creatinine_phosphokinase</th>\n",
              "      <th>diabetes</th>\n",
              "      <th>ejection_fraction</th>\n",
              "      <th>high_blood_pressure</th>\n",
              "      <th>platelets</th>\n",
              "      <th>serum_creatinine</th>\n",
              "      <th>serum_sodium</th>\n",
              "      <th>sex</th>\n",
              "      <th>smoking</th>\n",
              "      <th>time</th>\n",
              "      <th>DEATH_EVENT</th>\n",
              "    </tr>\n",
              "  </thead>\n",
              "  <tbody>\n",
              "    <tr>\n",
              "      <th>count</th>\n",
              "      <td>299.0</td>\n",
              "      <td>299</td>\n",
              "      <td>299</td>\n",
              "      <td>299</td>\n",
              "      <td>299</td>\n",
              "      <td>299</td>\n",
              "      <td>299.00</td>\n",
              "      <td>299.0</td>\n",
              "      <td>299</td>\n",
              "      <td>299</td>\n",
              "      <td>299</td>\n",
              "      <td>299</td>\n",
              "      <td>299</td>\n",
              "    </tr>\n",
              "    <tr>\n",
              "      <th>unique</th>\n",
              "      <td>47.0</td>\n",
              "      <td>2</td>\n",
              "      <td>208</td>\n",
              "      <td>2</td>\n",
              "      <td>17</td>\n",
              "      <td>2</td>\n",
              "      <td>176.00</td>\n",
              "      <td>40.0</td>\n",
              "      <td>27</td>\n",
              "      <td>2</td>\n",
              "      <td>2</td>\n",
              "      <td>148</td>\n",
              "      <td>2</td>\n",
              "    </tr>\n",
              "    <tr>\n",
              "      <th>top</th>\n",
              "      <td>60.0</td>\n",
              "      <td>0</td>\n",
              "      <td>582</td>\n",
              "      <td>0</td>\n",
              "      <td>35</td>\n",
              "      <td>0</td>\n",
              "      <td>263358.03</td>\n",
              "      <td>1.0</td>\n",
              "      <td>136</td>\n",
              "      <td>1</td>\n",
              "      <td>0</td>\n",
              "      <td>250</td>\n",
              "      <td>0</td>\n",
              "    </tr>\n",
              "    <tr>\n",
              "      <th>freq</th>\n",
              "      <td>33.0</td>\n",
              "      <td>170</td>\n",
              "      <td>47</td>\n",
              "      <td>174</td>\n",
              "      <td>49</td>\n",
              "      <td>194</td>\n",
              "      <td>25.00</td>\n",
              "      <td>50.0</td>\n",
              "      <td>40</td>\n",
              "      <td>194</td>\n",
              "      <td>203</td>\n",
              "      <td>7</td>\n",
              "      <td>203</td>\n",
              "    </tr>\n",
              "  </tbody>\n",
              "</table>\n",
              "</div>\n",
              "      <button class=\"colab-df-convert\" onclick=\"convertToInteractive('df-85e3f686-fd40-4764-984c-5a12cc89db1e')\"\n",
              "              title=\"Convert this dataframe to an interactive table.\"\n",
              "              style=\"display:none;\">\n",
              "        \n",
              "  <svg xmlns=\"http://www.w3.org/2000/svg\" height=\"24px\"viewBox=\"0 0 24 24\"\n",
              "       width=\"24px\">\n",
              "    <path d=\"M0 0h24v24H0V0z\" fill=\"none\"/>\n",
              "    <path d=\"M18.56 5.44l.94 2.06.94-2.06 2.06-.94-2.06-.94-.94-2.06-.94 2.06-2.06.94zm-11 1L8.5 8.5l.94-2.06 2.06-.94-2.06-.94L8.5 2.5l-.94 2.06-2.06.94zm10 10l.94 2.06.94-2.06 2.06-.94-2.06-.94-.94-2.06-.94 2.06-2.06.94z\"/><path d=\"M17.41 7.96l-1.37-1.37c-.4-.4-.92-.59-1.43-.59-.52 0-1.04.2-1.43.59L10.3 9.45l-7.72 7.72c-.78.78-.78 2.05 0 2.83L4 21.41c.39.39.9.59 1.41.59.51 0 1.02-.2 1.41-.59l7.78-7.78 2.81-2.81c.8-.78.8-2.07 0-2.86zM5.41 20L4 18.59l7.72-7.72 1.47 1.35L5.41 20z\"/>\n",
              "  </svg>\n",
              "      </button>\n",
              "      \n",
              "  <style>\n",
              "    .colab-df-container {\n",
              "      display:flex;\n",
              "      flex-wrap:wrap;\n",
              "      gap: 12px;\n",
              "    }\n",
              "\n",
              "    .colab-df-convert {\n",
              "      background-color: #E8F0FE;\n",
              "      border: none;\n",
              "      border-radius: 50%;\n",
              "      cursor: pointer;\n",
              "      display: none;\n",
              "      fill: #1967D2;\n",
              "      height: 32px;\n",
              "      padding: 0 0 0 0;\n",
              "      width: 32px;\n",
              "    }\n",
              "\n",
              "    .colab-df-convert:hover {\n",
              "      background-color: #E2EBFA;\n",
              "      box-shadow: 0px 1px 2px rgba(60, 64, 67, 0.3), 0px 1px 3px 1px rgba(60, 64, 67, 0.15);\n",
              "      fill: #174EA6;\n",
              "    }\n",
              "\n",
              "    [theme=dark] .colab-df-convert {\n",
              "      background-color: #3B4455;\n",
              "      fill: #D2E3FC;\n",
              "    }\n",
              "\n",
              "    [theme=dark] .colab-df-convert:hover {\n",
              "      background-color: #434B5C;\n",
              "      box-shadow: 0px 1px 3px 1px rgba(0, 0, 0, 0.15);\n",
              "      filter: drop-shadow(0px 1px 2px rgba(0, 0, 0, 0.3));\n",
              "      fill: #FFFFFF;\n",
              "    }\n",
              "  </style>\n",
              "\n",
              "      <script>\n",
              "        const buttonEl =\n",
              "          document.querySelector('#df-85e3f686-fd40-4764-984c-5a12cc89db1e button.colab-df-convert');\n",
              "        buttonEl.style.display =\n",
              "          google.colab.kernel.accessAllowed ? 'block' : 'none';\n",
              "\n",
              "        async function convertToInteractive(key) {\n",
              "          const element = document.querySelector('#df-85e3f686-fd40-4764-984c-5a12cc89db1e');\n",
              "          const dataTable =\n",
              "            await google.colab.kernel.invokeFunction('convertToInteractive',\n",
              "                                                     [key], {});\n",
              "          if (!dataTable) return;\n",
              "\n",
              "          const docLinkHtml = 'Like what you see? Visit the ' +\n",
              "            '<a target=\"_blank\" href=https://colab.research.google.com/notebooks/data_table.ipynb>data table notebook</a>'\n",
              "            + ' to learn more about interactive tables.';\n",
              "          element.innerHTML = '';\n",
              "          dataTable['output_type'] = 'display_data';\n",
              "          await google.colab.output.renderOutput(dataTable, element);\n",
              "          const docLink = document.createElement('div');\n",
              "          docLink.innerHTML = docLinkHtml;\n",
              "          element.appendChild(docLink);\n",
              "        }\n",
              "      </script>\n",
              "    </div>\n",
              "  </div>\n",
              "  "
            ]
          },
          "metadata": {},
          "execution_count": 56
        }
      ],
      "source": [
        "df.astype('category').describe()"
      ]
    },
    {
      "cell_type": "markdown",
      "metadata": {
        "id": "pKgsvptuBuYe"
      },
      "source": [
        "---\n",
        "##**Data Cleaning**\n",
        "---"
      ]
    },
    {
      "cell_type": "code",
      "execution_count": null,
      "metadata": {
        "colab": {
          "base_uri": "https://localhost:8080/"
        },
        "id": "1iRcSTg8Bz_V",
        "outputId": "697cbfa2-4912-453f-d02e-53bcf2a76509"
      },
      "outputs": [
        {
          "output_type": "execute_result",
          "data": {
            "text/plain": [
              "0"
            ]
          },
          "metadata": {},
          "execution_count": 57
        }
      ],
      "source": [
        "#Menampilkan jumlah data yang duplikat\n",
        "df.duplicated().sum()"
      ]
    },
    {
      "cell_type": "code",
      "execution_count": null,
      "metadata": {
        "colab": {
          "base_uri": "https://localhost:8080/"
        },
        "id": "FYFe3emiB3CM",
        "outputId": "8e7a9ad7-ee13-4fde-a210-8d5cec8dd17e"
      },
      "outputs": [
        {
          "output_type": "execute_result",
          "data": {
            "text/plain": [
              "False"
            ]
          },
          "metadata": {},
          "execution_count": 58
        }
      ],
      "source": [
        "#Menampilkan keberadaan ada atau tidaknya missing value\n",
        "df.isnull().values.any()"
      ]
    },
    {
      "cell_type": "markdown",
      "metadata": {
        "id": "FHTv3f-7ASzy"
      },
      "source": [
        "Berdasarkan hasil tersebut dapat dilihat bahwa tidak terdapat data yang duplikat, dan dikarenakan _False_ maka tidak terdapat missing value pada data yang digunakan. Sehingga data dapat langsung digunakan untuk proses analisis."
      ]
    },
    {
      "cell_type": "markdown",
      "metadata": {
        "id": "bD8QSSRJDT_m"
      },
      "source": [
        "---\n",
        "##**Data Exporation**\n",
        "---"
      ]
    },
    {
      "cell_type": "markdown",
      "metadata": {
        "id": "VjgcFLvJDbAp"
      },
      "source": [
        "**Data Query and Grouping**"
      ]
    },
    {
      "cell_type": "code",
      "execution_count": null,
      "metadata": {
        "colab": {
          "base_uri": "https://localhost:8080/"
        },
        "id": "TbtlGYsuDZMo",
        "outputId": "1ff8c6b8-2f8c-4b96-f9a8-5851fc4e7d78"
      },
      "outputs": [
        {
          "output_type": "stream",
          "name": "stdout",
          "text": [
            "<class 'pandas.core.frame.DataFrame'>\n",
            "RangeIndex: 299 entries, 0 to 298\n",
            "Data columns (total 13 columns):\n",
            " #   Column                    Non-Null Count  Dtype  \n",
            "---  ------                    --------------  -----  \n",
            " 0   age                       299 non-null    float64\n",
            " 1   anaemia                   299 non-null    int64  \n",
            " 2   creatinine_phosphokinase  299 non-null    int64  \n",
            " 3   diabetes                  299 non-null    int64  \n",
            " 4   ejection_fraction         299 non-null    int64  \n",
            " 5   high_blood_pressure       299 non-null    int64  \n",
            " 6   platelets                 299 non-null    float64\n",
            " 7   serum_creatinine          299 non-null    float64\n",
            " 8   serum_sodium              299 non-null    int64  \n",
            " 9   sex                       299 non-null    int64  \n",
            " 10  smoking                   299 non-null    int64  \n",
            " 11  time                      299 non-null    int64  \n",
            " 12  DEATH_EVENT               299 non-null    int64  \n",
            "dtypes: float64(3), int64(10)\n",
            "memory usage: 30.5 KB\n"
          ]
        }
      ],
      "source": [
        "df.info()"
      ]
    },
    {
      "cell_type": "code",
      "execution_count": null,
      "metadata": {
        "colab": {
          "base_uri": "https://localhost:8080/"
        },
        "id": "h90UZL6BGrvl",
        "outputId": "a0e58781-8f97-4665-a0eb-2f2102666f79"
      },
      "outputs": [
        {
          "output_type": "stream",
          "name": "stdout",
          "text": [
            "Jenis Kelamin : \n",
            "1    194\n",
            "0    105\n",
            "Name: sex, dtype: int64\n"
          ]
        }
      ],
      "source": [
        "#Mengetahui jumlah pasien berdasarkan jenis kelamin\n",
        "print('Jenis Kelamin : ')\n",
        "print(df['sex'].astype(int).value_counts().T)"
      ]
    },
    {
      "cell_type": "markdown",
      "metadata": {
        "id": "AHSX_Gm_66p7"
      },
      "source": [
        "Berdasarkan hasil diatas, 1 menunjukkan Jenis kelamin pria dan 0 menunjukkan jenis kelamin wanita. Dapat dilihat bahwa jumlah pasien pria pada data adalah sebanyak 194 orang dan wanita sebanyak 105 orang."
      ]
    },
    {
      "cell_type": "code",
      "execution_count": null,
      "metadata": {
        "colab": {
          "base_uri": "https://localhost:8080/"
        },
        "id": "otbljC9d7Yye",
        "outputId": "9fe548d3-8018-413d-c864-d429312847b7"
      },
      "outputs": [
        {
          "output_type": "execute_result",
          "data": {
            "text/plain": [
              "min     25100.0\n",
              "max    850000.0\n",
              "Name: platelets, dtype: float64"
            ]
          },
          "metadata": {},
          "execution_count": 61
        }
      ],
      "source": [
        "#Mengetahui trombosit terbesar dan terkecil\n",
        "df['platelets'].agg(('min', 'max'))"
      ]
    },
    {
      "cell_type": "markdown",
      "metadata": {
        "id": "QekJkWkI7mos"
      },
      "source": [
        "Berdasarkan hasil tersebut, nilai minimal trombosit pasien pada data adalah sebesar 25100.0 dan nilai maksimalnya adalah sebesar 850000.0."
      ]
    },
    {
      "cell_type": "code",
      "execution_count": null,
      "metadata": {
        "colab": {
          "base_uri": "https://localhost:8080/"
        },
        "id": "RwlXYHjbHkdc",
        "outputId": "b3d21a16-0099-4987-a328-651f095abb6f"
      },
      "outputs": [
        {
          "output_type": "stream",
          "name": "stdout",
          "text": [
            "60.000    11.036789\n",
            "50.000     9.030100\n",
            "65.000     8.695652\n",
            "70.000     8.361204\n",
            "45.000     6.354515\n",
            "55.000     5.685619\n",
            "75.000     3.678930\n",
            "53.000     3.344482\n",
            "58.000     3.344482\n",
            "63.000     2.675585\n",
            "80.000     2.341137\n",
            "72.000     2.341137\n",
            "40.000     2.341137\n",
            "42.000     2.341137\n",
            "85.000     2.006689\n",
            "68.000     1.672241\n",
            "52.000     1.672241\n",
            "62.000     1.672241\n",
            "51.000     1.337793\n",
            "59.000     1.337793\n",
            "61.000     1.337793\n",
            "73.000     1.337793\n",
            "49.000     1.337793\n",
            "69.000     1.003344\n",
            "46.000     1.003344\n",
            "64.000     1.003344\n",
            "82.000     1.003344\n",
            "90.000     1.003344\n",
            "78.000     0.668896\n",
            "60.667     0.668896\n",
            "54.000     0.668896\n",
            "77.000     0.668896\n",
            "57.000     0.668896\n",
            "66.000     0.668896\n",
            "44.000     0.668896\n",
            "67.000     0.668896\n",
            "95.000     0.668896\n",
            "48.000     0.668896\n",
            "43.000     0.334448\n",
            "86.000     0.334448\n",
            "81.000     0.334448\n",
            "79.000     0.334448\n",
            "41.000     0.334448\n",
            "94.000     0.334448\n",
            "87.000     0.334448\n",
            "47.000     0.334448\n",
            "56.000     0.334448\n",
            "Name: age, dtype: float64\n"
          ]
        }
      ],
      "source": [
        "#Mengetahui presentase pasien berdasarkan usia\n",
        "age_counts = df['age'].value_counts()\n",
        "total_pasien = len(df)\n",
        "persentase = (age_counts / total_pasien) * 100\n",
        "print(persentase)"
      ]
    },
    {
      "cell_type": "markdown",
      "source": [
        "Melihat banyak nilai dari masing masing kolom"
      ],
      "metadata": {
        "id": "H6SGXQwX27a9"
      }
    },
    {
      "cell_type": "code",
      "source": [
        "for col in df.columns:\n",
        "    print(col, ': ')\n",
        "    print(df[col].value_counts())\n",
        "    print('\\n','#'*60,'\\n')"
      ],
      "metadata": {
        "colab": {
          "base_uri": "https://localhost:8080/"
        },
        "id": "ffRNA5Wb26ZW",
        "outputId": "63e40302-017c-4666-b96e-23bef2d73244"
      },
      "execution_count": null,
      "outputs": [
        {
          "output_type": "stream",
          "name": "stdout",
          "text": [
            "age : \n",
            "60.000    33\n",
            "50.000    27\n",
            "65.000    26\n",
            "70.000    25\n",
            "45.000    19\n",
            "55.000    17\n",
            "75.000    11\n",
            "53.000    10\n",
            "58.000    10\n",
            "63.000     8\n",
            "80.000     7\n",
            "72.000     7\n",
            "40.000     7\n",
            "42.000     7\n",
            "85.000     6\n",
            "68.000     5\n",
            "52.000     5\n",
            "62.000     5\n",
            "51.000     4\n",
            "59.000     4\n",
            "61.000     4\n",
            "73.000     4\n",
            "49.000     4\n",
            "69.000     3\n",
            "46.000     3\n",
            "64.000     3\n",
            "82.000     3\n",
            "90.000     3\n",
            "78.000     2\n",
            "60.667     2\n",
            "54.000     2\n",
            "77.000     2\n",
            "57.000     2\n",
            "66.000     2\n",
            "44.000     2\n",
            "67.000     2\n",
            "95.000     2\n",
            "48.000     2\n",
            "43.000     1\n",
            "86.000     1\n",
            "81.000     1\n",
            "79.000     1\n",
            "41.000     1\n",
            "94.000     1\n",
            "87.000     1\n",
            "47.000     1\n",
            "56.000     1\n",
            "Name: age, dtype: int64\n",
            "\n",
            " ############################################################ \n",
            "\n",
            "anaemia : \n",
            "0    170\n",
            "1    129\n",
            "Name: anaemia, dtype: int64\n",
            "\n",
            " ############################################################ \n",
            "\n",
            "creatinine_phosphokinase : \n",
            "582     47\n",
            "66       4\n",
            "129      4\n",
            "231      3\n",
            "69       3\n",
            "        ..\n",
            "748      1\n",
            "1876     1\n",
            "936      1\n",
            "292      1\n",
            "2413     1\n",
            "Name: creatinine_phosphokinase, Length: 208, dtype: int64\n",
            "\n",
            " ############################################################ \n",
            "\n",
            "diabetes : \n",
            "0    174\n",
            "1    125\n",
            "Name: diabetes, dtype: int64\n",
            "\n",
            " ############################################################ \n",
            "\n",
            "ejection_fraction : \n",
            "35    49\n",
            "38    40\n",
            "40    37\n",
            "25    36\n",
            "30    34\n",
            "60    31\n",
            "50    21\n",
            "45    20\n",
            "20    18\n",
            "55     3\n",
            "15     2\n",
            "62     2\n",
            "17     2\n",
            "65     1\n",
            "14     1\n",
            "80     1\n",
            "70     1\n",
            "Name: ejection_fraction, dtype: int64\n",
            "\n",
            " ############################################################ \n",
            "\n",
            "high_blood_pressure : \n",
            "0    194\n",
            "1    105\n",
            "Name: high_blood_pressure, dtype: int64\n",
            "\n",
            " ############################################################ \n",
            "\n",
            "platelets : \n",
            "263358.03    25\n",
            "221000.00     4\n",
            "279000.00     4\n",
            "271000.00     4\n",
            "305000.00     4\n",
            "             ..\n",
            "227000.00     1\n",
            "289000.00     1\n",
            "300000.00     1\n",
            "217000.00     1\n",
            "742000.00     1\n",
            "Name: platelets, Length: 176, dtype: int64\n",
            "\n",
            " ############################################################ \n",
            "\n",
            "serum_creatinine : \n",
            "1.00    50\n",
            "1.10    32\n",
            "0.90    32\n",
            "1.20    24\n",
            "0.80    24\n",
            "1.30    20\n",
            "0.70    19\n",
            "1.18    11\n",
            "1.40     9\n",
            "1.70     9\n",
            "1.83     8\n",
            "1.60     6\n",
            "1.90     5\n",
            "2.10     5\n",
            "1.50     5\n",
            "0.60     4\n",
            "1.80     4\n",
            "2.30     3\n",
            "2.70     3\n",
            "2.50     3\n",
            "3.50     2\n",
            "2.40     2\n",
            "3.00     2\n",
            "0.50     1\n",
            "5.00     1\n",
            "0.75     1\n",
            "6.10     1\n",
            "3.40     1\n",
            "3.70     1\n",
            "9.00     1\n",
            "4.00     1\n",
            "3.20     1\n",
            "5.80     1\n",
            "2.90     1\n",
            "2.00     1\n",
            "2.20     1\n",
            "6.80     1\n",
            "9.40     1\n",
            "4.40     1\n",
            "3.80     1\n",
            "Name: serum_creatinine, dtype: int64\n",
            "\n",
            " ############################################################ \n",
            "\n",
            "serum_sodium : \n",
            "136    40\n",
            "137    38\n",
            "140    35\n",
            "134    32\n",
            "138    23\n",
            "139    22\n",
            "135    16\n",
            "132    14\n",
            "141    12\n",
            "142    11\n",
            "133    10\n",
            "145     9\n",
            "130     9\n",
            "144     5\n",
            "131     5\n",
            "127     3\n",
            "143     3\n",
            "128     2\n",
            "129     2\n",
            "121     1\n",
            "116     1\n",
            "146     1\n",
            "126     1\n",
            "124     1\n",
            "113     1\n",
            "125     1\n",
            "148     1\n",
            "Name: serum_sodium, dtype: int64\n",
            "\n",
            " ############################################################ \n",
            "\n",
            "sex : \n",
            "1    194\n",
            "0    105\n",
            "Name: sex, dtype: int64\n",
            "\n",
            " ############################################################ \n",
            "\n",
            "smoking : \n",
            "0    203\n",
            "1     96\n",
            "Name: smoking, dtype: int64\n",
            "\n",
            " ############################################################ \n",
            "\n",
            "time : \n",
            "250    7\n",
            "187    7\n",
            "10     6\n",
            "186    6\n",
            "107    6\n",
            "      ..\n",
            "97     1\n",
            "96     1\n",
            "86     1\n",
            "77     1\n",
            "285    1\n",
            "Name: time, Length: 148, dtype: int64\n",
            "\n",
            " ############################################################ \n",
            "\n",
            "DEATH_EVENT : \n",
            "0    203\n",
            "1     96\n",
            "Name: DEATH_EVENT, dtype: int64\n",
            "\n",
            " ############################################################ \n",
            "\n"
          ]
        }
      ]
    },
    {
      "cell_type": "code",
      "execution_count": null,
      "metadata": {
        "colab": {
          "base_uri": "https://localhost:8080/",
          "height": 430
        },
        "id": "cMmCqAf9DhAj",
        "outputId": "16b92183-3890-4bf0-9ca3-381ea12fedd8"
      },
      "outputs": [
        {
          "output_type": "display_data",
          "data": {
            "text/plain": [
              "<Figure size 640x480 with 1 Axes>"
            ],
            "image/png": "[encoded data removed]"
          },
          "metadata": {}
        }
      ],
      "source": [
        "#Membuat pie chart presentase pasien berdasarkan usia\n",
        "plt.pie(age_counts, labels=age_counts.index, autopct='%1.1f%%')\n",
        "\n",
        "#Menambahkan judul\n",
        "plt.title('Persentase Jumlah Pasien Berdasarkan Umur', size=15)\n",
        "\n",
        "#Menampilkan pie chart\n",
        "plt.show()"
      ]
    },
    {
      "cell_type": "markdown",
      "metadata": {
        "id": "P4JQuIkj76jd"
      },
      "source": [
        "Dapat dilihat bahwa presentase terbanyak yaitu pasien berusia 60 tahun yaitu sebesar 11.0% disusul oleh pasien berusia 50 tahun yaitu sebesar 9.0%. Sedangkan presentase terendah yaitu pasien berumur 56 sebesar 0.33%."
      ]
    },
    {
      "cell_type": "code",
      "execution_count": null,
      "metadata": {
        "colab": {
          "base_uri": "https://localhost:8080/",
          "height": 695
        },
        "id": "XzEJxzB9DnXm",
        "outputId": "2453bc88-3771-4556-9d60-a6c6f7785f81"
      },
      "outputs": [
        {
          "output_type": "stream",
          "name": "stderr",
          "text": [
            "<ipython-input-65-51c2cbc36ccd>:2: UserWarning: \n",
            "\n",
            "`distplot` is a deprecated function and will be removed in seaborn v0.14.0.\n",
            "\n",
            "Please adapt your code to use either `displot` (a figure-level function with\n",
            "similar flexibility) or `histplot` (an axes-level function for histograms).\n",
            "\n",
            "For a guide to updating your code to use the new functions, please see\n",
            "https://gist.github.com/mwaskom/de44147ed2974457ad6372750bbe5751\n",
            "\n",
            "  sns.distplot(df['DEATH_EVENT'])\n"
          ]
        },
        {
          "output_type": "execute_result",
          "data": {
            "text/plain": [
              "Text(0.5, 1.0, 'Distribusi Data Kematian')"
            ]
          },
          "metadata": {},
          "execution_count": 65
        },
        {
          "output_type": "display_data",
          "data": {
            "text/plain": [
              "<Figure size 640x480 with 1 Axes>"
            ],
            "image/png": "[encoded data removed]"
          },
          "metadata": {}
        }
      ],
      "source": [
        "#Visualisasi distribusi data pada kolom 'DEATH_EVENT'\n",
        "sns.distplot(df['DEATH_EVENT'])\n",
        "plt.title('Distribusi Data Kematian', size = 15)"
      ]
    },
    {
      "cell_type": "code",
      "execution_count": null,
      "metadata": {
        "colab": {
          "base_uri": "https://localhost:8080/",
          "height": 1000
        },
        "id": "8DtU2H-oFnYs",
        "outputId": "b3476167-c2b6-4301-c27a-cf4bc4ec604b"
      },
      "outputs": [
        {
          "output_type": "execute_result",
          "data": {
            "text/plain": [
              "    age  high_blood_pressure\n",
              "0    40             0.142857\n",
              "1    41             0.000000\n",
              "2    42             0.000000\n",
              "3    43             0.000000\n",
              "4    44             1.000000\n",
              "5    45             0.263158\n",
              "6    46             0.666667\n",
              "7    47             0.000000\n",
              "8    48             0.500000\n",
              "9    49             0.750000\n",
              "10   50             0.370370\n",
              "11   51             0.250000\n",
              "12   52             0.200000\n",
              "13   53             0.300000\n",
              "14   54             0.500000\n",
              "15   55             0.235294\n",
              "16   56             0.000000\n",
              "17   57             0.500000\n",
              "18   58             0.300000\n",
              "19   59             0.500000\n",
              "20   60             0.285714\n",
              "21   61             0.500000\n",
              "22   62             0.600000\n",
              "23   63             0.250000\n",
              "24   64             0.000000\n",
              "25   65             0.307692\n",
              "26   66             1.000000\n",
              "27   67             0.000000\n",
              "28   68             0.400000\n",
              "29   69             0.000000\n",
              "30   70             0.520000\n",
              "31   72             0.714286\n",
              "32   73             0.500000\n",
              "33   75             0.636364\n",
              "34   77             0.500000\n",
              "35   78             0.000000\n",
              "36   79             1.000000\n",
              "37   80             0.428571\n",
              "38   81             0.000000\n",
              "39   82             0.333333\n",
              "40   85             0.000000\n",
              "41   86             0.000000\n",
              "42   87             0.000000\n",
              "43   90             0.333333\n",
              "44   94             1.000000\n",
              "45   95             0.500000"
            ],
            "text/html": [
              "\n",
              "  <div id=\"df-97c5b305-968e-4b02-a582-7af7b1c79ef1\">\n",
              "    <div class=\"colab-df-container\">\n",
              "      <div>\n",
              "<style scoped>\n",
              "    .dataframe tbody tr th:only-of-type {\n",
              "        vertical-align: middle;\n",
              "    }\n",
              "\n",
              "    .dataframe tbody tr th {\n",
              "        vertical-align: top;\n",
              "    }\n",
              "\n",
              "    .dataframe thead th {\n",
              "        text-align: right;\n",
              "    }\n",
              "</style>\n",
              "<table border=\"1\" class=\"dataframe\">\n",
              "  <thead>\n",
              "    <tr style=\"text-align: right;\">\n",
              "      <th></th>\n",
              "      <th>age</th>\n",
              "      <th>high_blood_pressure</th>\n",
              "    </tr>\n",
              "  </thead>\n",
              "  <tbody>\n",
              "    <tr>\n",
              "      <th>0</th>\n",
              "      <td>40</td>\n",
              "      <td>0.142857</td>\n",
              "    </tr>\n",
              "    <tr>\n",
              "      <th>1</th>\n",
              "      <td>41</td>\n",
              "      <td>0.000000</td>\n",
              "    </tr>\n",
              "    <tr>\n",
              "      <th>2</th>\n",
              "      <td>42</td>\n",
              "      <td>0.000000</td>\n",
              "    </tr>\n",
              "    <tr>\n",
              "      <th>3</th>\n",
              "      <td>43</td>\n",
              "      <td>0.000000</td>\n",
              "    </tr>\n",
              "    <tr>\n",
              "      <th>4</th>\n",
              "      <td>44</td>\n",
              "      <td>1.000000</td>\n",
              "    </tr>\n",
              "    <tr>\n",
              "      <th>5</th>\n",
              "      <td>45</td>\n",
              "      <td>0.263158</td>\n",
              "    </tr>\n",
              "    <tr>\n",
              "      <th>6</th>\n",
              "      <td>46</td>\n",
              "      <td>0.666667</td>\n",
              "    </tr>\n",
              "    <tr>\n",
              "      <th>7</th>\n",
              "      <td>47</td>\n",
              "      <td>0.000000</td>\n",
              "    </tr>\n",
              "    <tr>\n",
              "      <th>8</th>\n",
              "      <td>48</td>\n",
              "      <td>0.500000</td>\n",
              "    </tr>\n",
              "    <tr>\n",
              "      <th>9</th>\n",
              "      <td>49</td>\n",
              "      <td>0.750000</td>\n",
              "    </tr>\n",
              "    <tr>\n",
              "      <th>10</th>\n",
              "      <td>50</td>\n",
              "      <td>0.370370</td>\n",
              "    </tr>\n",
              "    <tr>\n",
              "      <th>11</th>\n",
              "      <td>51</td>\n",
              "      <td>0.250000</td>\n",
              "    </tr>\n",
              "    <tr>\n",
              "      <th>12</th>\n",
              "      <td>52</td>\n",
              "      <td>0.200000</td>\n",
              "    </tr>\n",
              "    <tr>\n",
              "      <th>13</th>\n",
              "      <td>53</td>\n",
              "      <td>0.300000</td>\n",
              "    </tr>\n",
              "    <tr>\n",
              "      <th>14</th>\n",
              "      <td>54</td>\n",
              "      <td>0.500000</td>\n",
              "    </tr>\n",
              "    <tr>\n",
              "      <th>15</th>\n",
              "      <td>55</td>\n",
              "      <td>0.235294</td>\n",
              "    </tr>\n",
              "    <tr>\n",
              "      <th>16</th>\n",
              "      <td>56</td>\n",
              "      <td>0.000000</td>\n",
              "    </tr>\n",
              "    <tr>\n",
              "      <th>17</th>\n",
              "      <td>57</td>\n",
              "      <td>0.500000</td>\n",
              "    </tr>\n",
              "    <tr>\n",
              "      <th>18</th>\n",
              "      <td>58</td>\n",
              "      <td>0.300000</td>\n",
              "    </tr>\n",
              "    <tr>\n",
              "      <th>19</th>\n",
              "      <td>59</td>\n",
              "      <td>0.500000</td>\n",
              "    </tr>\n",
              "    <tr>\n",
              "      <th>20</th>\n",
              "      <td>60</td>\n",
              "      <td>0.285714</td>\n",
              "    </tr>\n",
              "    <tr>\n",
              "      <th>21</th>\n",
              "      <td>61</td>\n",
              "      <td>0.500000</td>\n",
              "    </tr>\n",
              "    <tr>\n",
              "      <th>22</th>\n",
              "      <td>62</td>\n",
              "      <td>0.600000</td>\n",
              "    </tr>\n",
              "    <tr>\n",
              "      <th>23</th>\n",
              "      <td>63</td>\n",
              "      <td>0.250000</td>\n",
              "    </tr>\n",
              "    <tr>\n",
              "      <th>24</th>\n",
              "      <td>64</td>\n",
              "      <td>0.000000</td>\n",
              "    </tr>\n",
              "    <tr>\n",
              "      <th>25</th>\n",
              "      <td>65</td>\n",
              "      <td>0.307692</td>\n",
              "    </tr>\n",
              "    <tr>\n",
              "      <th>26</th>\n",
              "      <td>66</td>\n",
              "      <td>1.000000</td>\n",
              "    </tr>\n",
              "    <tr>\n",
              "      <th>27</th>\n",
              "      <td>67</td>\n",
              "      <td>0.000000</td>\n",
              "    </tr>\n",
              "    <tr>\n",
              "      <th>28</th>\n",
              "      <td>68</td>\n",
              "      <td>0.400000</td>\n",
              "    </tr>\n",
              "    <tr>\n",
              "      <th>29</th>\n",
              "      <td>69</td>\n",
              "      <td>0.000000</td>\n",
              "    </tr>\n",
              "    <tr>\n",
              "      <th>30</th>\n",
              "      <td>70</td>\n",
              "      <td>0.520000</td>\n",
              "    </tr>\n",
              "    <tr>\n",
              "      <th>31</th>\n",
              "      <td>72</td>\n",
              "      <td>0.714286</td>\n",
              "    </tr>\n",
              "    <tr>\n",
              "      <th>32</th>\n",
              "      <td>73</td>\n",
              "      <td>0.500000</td>\n",
              "    </tr>\n",
              "    <tr>\n",
              "      <th>33</th>\n",
              "      <td>75</td>\n",
              "      <td>0.636364</td>\n",
              "    </tr>\n",
              "    <tr>\n",
              "      <th>34</th>\n",
              "      <td>77</td>\n",
              "      <td>0.500000</td>\n",
              "    </tr>\n",
              "    <tr>\n",
              "      <th>35</th>\n",
              "      <td>78</td>\n",
              "      <td>0.000000</td>\n",
              "    </tr>\n",
              "    <tr>\n",
              "      <th>36</th>\n",
              "      <td>79</td>\n",
              "      <td>1.000000</td>\n",
              "    </tr>\n",
              "    <tr>\n",
              "      <th>37</th>\n",
              "      <td>80</td>\n",
              "      <td>0.428571</td>\n",
              "    </tr>\n",
              "    <tr>\n",
              "      <th>38</th>\n",
              "      <td>81</td>\n",
              "      <td>0.000000</td>\n",
              "    </tr>\n",
              "    <tr>\n",
              "      <th>39</th>\n",
              "      <td>82</td>\n",
              "      <td>0.333333</td>\n",
              "    </tr>\n",
              "    <tr>\n",
              "      <th>40</th>\n",
              "      <td>85</td>\n",
              "      <td>0.000000</td>\n",
              "    </tr>\n",
              "    <tr>\n",
              "      <th>41</th>\n",
              "      <td>86</td>\n",
              "      <td>0.000000</td>\n",
              "    </tr>\n",
              "    <tr>\n",
              "      <th>42</th>\n",
              "      <td>87</td>\n",
              "      <td>0.000000</td>\n",
              "    </tr>\n",
              "    <tr>\n",
              "      <th>43</th>\n",
              "      <td>90</td>\n",
              "      <td>0.333333</td>\n",
              "    </tr>\n",
              "    <tr>\n",
              "      <th>44</th>\n",
              "      <td>94</td>\n",
              "      <td>1.000000</td>\n",
              "    </tr>\n",
              "    <tr>\n",
              "      <th>45</th>\n",
              "      <td>95</td>\n",
              "      <td>0.500000</td>\n",
              "    </tr>\n",
              "  </tbody>\n",
              "</table>\n",
              "</div>\n",
              "      <button class=\"colab-df-convert\" onclick=\"convertToInteractive('df-97c5b305-968e-4b02-a582-7af7b1c79ef1')\"\n",
              "              title=\"Convert this dataframe to an interactive table.\"\n",
              "              style=\"display:none;\">\n",
              "        \n",
              "  <svg xmlns=\"http://www.w3.org/2000/svg\" height=\"24px\"viewBox=\"0 0 24 24\"\n",
              "       width=\"24px\">\n",
              "    <path d=\"M0 0h24v24H0V0z\" fill=\"none\"/>\n",
              "    <path d=\"M18.56 5.44l.94 2.06.94-2.06 2.06-.94-2.06-.94-.94-2.06-.94 2.06-2.06.94zm-11 1L8.5 8.5l.94-2.06 2.06-.94-2.06-.94L8.5 2.5l-.94 2.06-2.06.94zm10 10l.94 2.06.94-2.06 2.06-.94-2.06-.94-.94-2.06-.94 2.06-2.06.94z\"/><path d=\"M17.41 7.96l-1.37-1.37c-.4-.4-.92-.59-1.43-.59-.52 0-1.04.2-1.43.59L10.3 9.45l-7.72 7.72c-.78.78-.78 2.05 0 2.83L4 21.41c.39.39.9.59 1.41.59.51 0 1.02-.2 1.41-.59l7.78-7.78 2.81-2.81c.8-.78.8-2.07 0-2.86zM5.41 20L4 18.59l7.72-7.72 1.47 1.35L5.41 20z\"/>\n",
              "  </svg>\n",
              "      </button>\n",
              "      \n",
              "  <style>\n",
              "    .colab-df-container {\n",
              "      display:flex;\n",
              "      flex-wrap:wrap;\n",
              "      gap: 12px;\n",
              "    }\n",
              "\n",
              "    .colab-df-convert {\n",
              "      background-color: #E8F0FE;\n",
              "      border: none;\n",
              "      border-radius: 50%;\n",
              "      cursor: pointer;\n",
              "      display: none;\n",
              "      fill: #1967D2;\n",
              "      height: 32px;\n",
              "      padding: 0 0 0 0;\n",
              "      width: 32px;\n",
              "    }\n",
              "\n",
              "    .colab-df-convert:hover {\n",
              "      background-color: #E2EBFA;\n",
              "      box-shadow: 0px 1px 2px rgba(60, 64, 67, 0.3), 0px 1px 3px 1px rgba(60, 64, 67, 0.15);\n",
              "      fill: #174EA6;\n",
              "    }\n",
              "\n",
              "    [theme=dark] .colab-df-convert {\n",
              "      background-color: #3B4455;\n",
              "      fill: #D2E3FC;\n",
              "    }\n",
              "\n",
              "    [theme=dark] .colab-df-convert:hover {\n",
              "      background-color: #434B5C;\n",
              "      box-shadow: 0px 1px 3px 1px rgba(0, 0, 0, 0.15);\n",
              "      filter: drop-shadow(0px 1px 2px rgba(0, 0, 0, 0.3));\n",
              "      fill: #FFFFFF;\n",
              "    }\n",
              "  </style>\n",
              "\n",
              "      <script>\n",
              "        const buttonEl =\n",
              "          document.querySelector('#df-97c5b305-968e-4b02-a582-7af7b1c79ef1 button.colab-df-convert');\n",
              "        buttonEl.style.display =\n",
              "          google.colab.kernel.accessAllowed ? 'block' : 'none';\n",
              "\n",
              "        async function convertToInteractive(key) {\n",
              "          const element = document.querySelector('#df-97c5b305-968e-4b02-a582-7af7b1c79ef1');\n",
              "          const dataTable =\n",
              "            await google.colab.kernel.invokeFunction('convertToInteractive',\n",
              "                                                     [key], {});\n",
              "          if (!dataTable) return;\n",
              "\n",
              "          const docLinkHtml = 'Like what you see? Visit the ' +\n",
              "            '<a target=\"_blank\" href=https://colab.research.google.com/notebooks/data_table.ipynb>data table notebook</a>'\n",
              "            + ' to learn more about interactive tables.';\n",
              "          element.innerHTML = '';\n",
              "          dataTable['output_type'] = 'display_data';\n",
              "          await google.colab.output.renderOutput(dataTable, element);\n",
              "          const docLink = document.createElement('div');\n",
              "          docLink.innerHTML = docLinkHtml;\n",
              "          element.appendChild(docLink);\n",
              "        }\n",
              "      </script>\n",
              "    </div>\n",
              "  </div>\n",
              "  "
            ]
          },
          "metadata": {},
          "execution_count": 66
        }
      ],
      "source": [
        "#Mengetahui rata-rata Tekanan Darah Tinggi Di Tiap Umur\n",
        "df['age'] = df['age'].astype(int)\n",
        "high_blood_pressure = df[['high_blood_pressure','age']].groupby(['age'], as_index = False).agg({'high_blood_pressure':'mean'})\n",
        "high_blood_pressure\t"
      ]
    },
    {
      "cell_type": "code",
      "execution_count": null,
      "metadata": {
        "colab": {
          "base_uri": "https://localhost:8080/",
          "height": 487
        },
        "id": "Fmh-LsOnbbOu",
        "outputId": "b0ed3bd1-8217-4064-a072-9fa14fb83d8d"
      },
      "outputs": [
        {
          "output_type": "display_data",
          "data": {
            "text/plain": [
              "<Figure size 1500x500 with 1 Axes>"
            ],
            "image/png": "[encoded data removed]"
          },
          "metadata": {}
        }
      ],
      "source": [
        "#Visualisasi Tekanan Darah Tinggi Di Tiap Usia\n",
        "high_blood_pressure.plot(kind='line', x='age', y='high_blood_pressure', figsize=(15,5))\n",
        "\n",
        "plt.title('Distibusi Pasien Dengan Tekanan Darah Tinggi Berdasarkan Usia')\n",
        "plt.xlabel('Usia')\n",
        "plt.ylabel('High Blood Pressure')\n",
        "plt.grid(color=\"grey\")\n",
        "\n",
        "plt.show()"
      ]
    },
    {
      "cell_type": "markdown",
      "metadata": {
        "id": "5EMp2xBa8oE-"
      },
      "source": [
        "Berdasarkan hasil tersebut dapat dilihat bahwa pasien dengan usia 44, 66, 79, dan 94 tahun memiliki riwayat tekanan darah tinggi yang terbesar yaitu dengan rata-rata 1.000000."
      ]
    },
    {
      "cell_type": "code",
      "execution_count": null,
      "metadata": {
        "colab": {
          "base_uri": "https://localhost:8080/",
          "height": 507
        },
        "id": "kalFFcovf8cA",
        "outputId": "709aa8fa-9962-4c4c-c7fd-bd88adbf0206"
      },
      "outputs": [
        {
          "output_type": "execute_result",
          "data": {
            "text/plain": [
              "Text(0.5, 1.0, 'Tekanan Darah Tinggi vs Pecahan Ejeksi')"
            ]
          },
          "metadata": {},
          "execution_count": 68
        },
        {
          "output_type": "display_data",
          "data": {
            "text/plain": [
              "<Figure size 900x500 with 1 Axes>"
            ],
            "image/png": "[encoded data removed]"
          },
          "metadata": {}
        }
      ],
      "source": [
        "#Visualisasi boxplot perbandingan Tekanan Darah Tinggi berdasarkan Pecahan Ejeksi\n",
        "fig, ax = plt.subplots(figsize=(9, 5))\n",
        "sns.boxplot(x = 'high_blood_pressure', y = 'ejection_fraction', data = df, palette = \"pastel\")\n",
        "plt.xlabel(\"High Blood Pressure\", fontsize = 10)\n",
        "plt.ylabel(\"Ejection Fraction\", fontsize = 10)\n",
        "plt.title(\"Tekanan Darah Tinggi vs Pecahan Ejeksi\", fontsize = 15)"
      ]
    },
    {
      "cell_type": "markdown",
      "metadata": {
        "id": "1a88qFq09qJC"
      },
      "source": [
        "Pada grafik Boxplot terlihat bahwa 0 yang berarti tidak memiliki riwayat tekanan darah tinggi, sedangkan 1 berati memiliki riwayat tekanan darah tinggi. Dapat dilihat bahwa 0 memiliki jangkauan yang cukup jauh terhadap 1. Outlier dari 0 juga lebih banyak daripada 1."
      ]
    },
    {
      "cell_type": "markdown",
      "metadata": {
        "id": "t_QVAarNAVM_"
      },
      "source": [
        "**Mencari Central Tendency**"
      ]
    },
    {
      "cell_type": "code",
      "execution_count": null,
      "metadata": {
        "colab": {
          "base_uri": "https://localhost:8080/"
        },
        "id": "JNLjqZC2CEX1",
        "outputId": "7d27586b-0b41-4b95-f332-7eb98835dfcf"
      },
      "outputs": [
        {
          "output_type": "execute_result",
          "data": {
            "text/plain": [
              "DEATH_EVENT\n",
              "0    40.26601\n",
              "1    33.46875\n",
              "Name: ejection_fraction, dtype: float64"
            ]
          },
          "metadata": {},
          "execution_count": 69
        }
      ],
      "source": [
        "#Menghitung rata-rata ejection fraction berdasarkan atribut 'DEATH_EVENT' \n",
        "df_mean = df.groupby('DEATH_EVENT')['ejection_fraction'].mean().sort_values(ascending=False)\n",
        "df_mean.T"
      ]
    },
    {
      "cell_type": "code",
      "execution_count": null,
      "metadata": {
        "colab": {
          "base_uri": "https://localhost:8080/"
        },
        "id": "ccdbyeUxumTD",
        "outputId": "88661d1d-e515-43d3-f2b6-7de03090b6c0"
      },
      "outputs": [
        {
          "output_type": "execute_result",
          "data": {
            "text/plain": [
              "0    60\n",
              "Name: age, dtype: int64"
            ]
          },
          "metadata": {},
          "execution_count": 70
        }
      ],
      "source": [
        "#Melihat usia pasien penyakit jantung yang paling banyak merokok\n",
        "df.loc[df['smoking'] == 1, 'age'].mode()"
      ]
    },
    {
      "cell_type": "code",
      "execution_count": null,
      "metadata": {
        "colab": {
          "base_uri": "https://localhost:8080/"
        },
        "id": "zUZd8gAyAcnK",
        "outputId": "45285a9f-afe5-4251-b15e-a8282181b7c7"
      },
      "outputs": [
        {
          "output_type": "stream",
          "name": "stdout",
          "text": [
            "262000.0\n"
          ]
        }
      ],
      "source": [
        "#Melihat nilai median dari atribut platelets\n",
        "median = df['platelets'].median()\n",
        "print(median)"
      ]
    },
    {
      "cell_type": "markdown",
      "metadata": {
        "id": "Qpe1otvU-c4W"
      },
      "source": [
        "Dapat dilihat beberapa nilai statistik dasar (central tendency) dari beberapa atribut pada data. Nilai mean dari atribut ejection_fraction terhadap DEATH_EVENT adalah 40.26601 untuk 0 dan 33.46875 untuk 1. Lalu, median dari kolom platelets adalah 262000.0. Kemudian, modus dari usia pasien terhadap atribut smoking menghasilkan output '60' yang berarti pasien dengan riwayat perokok terbanyak adalah pada usia 60 tahun. Informasi ini dapat membantu kita untuk memahami distribusi data pada dataset."
      ]
    },
    {
      "cell_type": "markdown",
      "metadata": {
        "id": "fKMgkdFPEtF2"
      },
      "source": [
        "**Mencari Variability**"
      ]
    },
    {
      "cell_type": "code",
      "execution_count": null,
      "metadata": {
        "colab": {
          "base_uri": "https://localhost:8080/"
        },
        "id": "7tJJ1frBD1yv",
        "outputId": "db7cffbc-053a-4fcb-f94f-29dd054dcacc"
      },
      "outputs": [
        {
          "output_type": "stream",
          "name": "stdout",
          "text": [
            "Variansi Atribut Creatinine Phosphokinase: 938309.8805829913\n",
            "Standar deviasi: 968.6639668032415\n",
            "Skewness: 4.463110084653752\n",
            "Percentile: [116.5 250.  582. ]\n",
            "Range: 7838\n"
          ]
        }
      ],
      "source": [
        "# Mencari variabilitas pada kolom 'Creatinine Phosphokinase'\n",
        "variance = np.var(df['creatinine_phosphokinase'])\n",
        "std_dev = np.std(df['creatinine_phosphokinase'])\n",
        "z = df['creatinine_phosphokinase']\n",
        "z.skew()\n",
        "percentile = np.percentile(z, [25, 50, 75])\n",
        "jangkauan = np.ptp(z)\n",
        "\n",
        "print(\"Variansi Atribut Creatinine Phosphokinase:\", variance)\n",
        "print(\"Standar deviasi:\", std_dev)\n",
        "print(\"Skewness:\", z.skew())\n",
        "print(\"Percentile:\", percentile)\n",
        "print(\"Range:\", jangkauan)"
      ]
    },
    {
      "cell_type": "markdown",
      "metadata": {
        "id": "KC8g5hZr_f37"
      },
      "source": [
        "Dari analisa variabilitas kolom 'creatinine_phosphokinase' pada dataset, ditemukan nilai variansinya yang cukup besar sebesar 938309.8805829913 dan standar deviasi sebesar 968.6639668032415. Lalu nilai Skewness sebesar 4.463110084653752, dimana semakin mendekati nol menunjukkan distribusi data yang relatif simetris. Sehingga, distribusi data cenderung normal. Hasil persentil menunjukkan penyebaran data di 25%, 50%, dan 75% yang pada output tersebut adalah 116.5, 250, dan 582. Rentang Kreatin kinase yang dihasilkan jaringan tubuh pasien pada dataset adalah 7838, menunjukkan besar jangkauan nilai-nilai dalam data yang cukup besar."
      ]
    },
    {
      "cell_type": "markdown",
      "metadata": {
        "id": "PUL5xobYFZ2d"
      },
      "source": [
        "---\n",
        "##**Data Preprocessing**\n",
        "---"
      ]
    },
    {
      "cell_type": "code",
      "execution_count": null,
      "metadata": {
        "colab": {
          "base_uri": "https://localhost:8080/",
          "height": 423
        },
        "id": "lL8St2rvULTg",
        "outputId": "6d328d56-814b-4d2c-b3dd-bb498ca90057"
      },
      "outputs": [
        {
          "output_type": "execute_result",
          "data": {
            "text/plain": [
              "     age  anaemia  creatinine_phosphokinase  diabetes  ejection_fraction  \\\n",
              "0     75        0                       582         0                 20   \n",
              "1     55        0                      7861         0                 38   \n",
              "2     65        0                       146         0                 20   \n",
              "3     50        1                       111         0                 20   \n",
              "4     65        1                       160         1                 20   \n",
              "..   ...      ...                       ...       ...                ...   \n",
              "294   62        0                        61         1                 38   \n",
              "295   55        0                      1820         0                 38   \n",
              "296   45        0                      2060         1                 60   \n",
              "297   45        0                      2413         0                 38   \n",
              "298   50        0                       196         0                 45   \n",
              "\n",
              "     high_blood_pressure  platelets  serum_creatinine  serum_sodium  sex  \\\n",
              "0                      1  265000.00               1.9           130    1   \n",
              "1                      0  263358.03               1.1           136    1   \n",
              "2                      0  162000.00               1.3           129    1   \n",
              "3                      0  210000.00               1.9           137    1   \n",
              "4                      0  327000.00               2.7           116    0   \n",
              "..                   ...        ...               ...           ...  ...   \n",
              "294                    1  155000.00               1.1           143    1   \n",
              "295                    0  270000.00               1.2           139    0   \n",
              "296                    0  742000.00               0.8           138    0   \n",
              "297                    0  140000.00               1.4           140    1   \n",
              "298                    0  395000.00               1.6           136    1   \n",
              "\n",
              "     smoking  time  DEATH_EVENT  \n",
              "0          0     4            1  \n",
              "1          0     6            1  \n",
              "2          1     7            1  \n",
              "3          0     7            1  \n",
              "4          0     8            1  \n",
              "..       ...   ...          ...  \n",
              "294        1   270            0  \n",
              "295        0   271            0  \n",
              "296        0   278            0  \n",
              "297        1   280            0  \n",
              "298        1   285            0  \n",
              "\n",
              "[299 rows x 13 columns]"
            ],
            "text/html": [
              "\n",
              "  <div id=\"df-b780171a-7f68-4d0e-8a85-7161c0b4a04a\">\n",
              "    <div class=\"colab-df-container\">\n",
              "      <div>\n",
              "<style scoped>\n",
              "    .dataframe tbody tr th:only-of-type {\n",
              "        vertical-align: middle;\n",
              "    }\n",
              "\n",
              "    .dataframe tbody tr th {\n",
              "        vertical-align: top;\n",
              "    }\n",
              "\n",
              "    .dataframe thead th {\n",
              "        text-align: right;\n",
              "    }\n",
              "</style>\n",
              "<table border=\"1\" class=\"dataframe\">\n",
              "  <thead>\n",
              "    <tr style=\"text-align: right;\">\n",
              "      <th></th>\n",
              "      <th>age</th>\n",
              "      <th>anaemia</th>\n",
              "      <th>creatinine_phosphokinase</th>\n",
              "      <th>diabetes</th>\n",
              "      <th>ejection_fraction</th>\n",
              "      <th>high_blood_pressure</th>\n",
              "      <th>platelets</th>\n",
              "      <th>serum_creatinine</th>\n",
              "      <th>serum_sodium</th>\n",
              "      <th>sex</th>\n",
              "      <th>smoking</th>\n",
              "      <th>time</th>\n",
              "      <th>DEATH_EVENT</th>\n",
              "    </tr>\n",
              "  </thead>\n",
              "  <tbody>\n",
              "    <tr>\n",
              "      <th>0</th>\n",
              "      <td>75</td>\n",
              "      <td>0</td>\n",
              "      <td>582</td>\n",
              "      <td>0</td>\n",
              "      <td>20</td>\n",
              "      <td>1</td>\n",
              "      <td>265000.00</td>\n",
              "      <td>1.9</td>\n",
              "      <td>130</td>\n",
              "      <td>1</td>\n",
              "      <td>0</td>\n",
              "      <td>4</td>\n",
              "      <td>1</td>\n",
              "    </tr>\n",
              "    <tr>\n",
              "      <th>1</th>\n",
              "      <td>55</td>\n",
              "      <td>0</td>\n",
              "      <td>7861</td>\n",
              "      <td>0</td>\n",
              "      <td>38</td>\n",
              "      <td>0</td>\n",
              "      <td>263358.03</td>\n",
              "      <td>1.1</td>\n",
              "      <td>136</td>\n",
              "      <td>1</td>\n",
              "      <td>0</td>\n",
              "      <td>6</td>\n",
              "      <td>1</td>\n",
              "    </tr>\n",
              "    <tr>\n",
              "      <th>2</th>\n",
              "      <td>65</td>\n",
              "      <td>0</td>\n",
              "      <td>146</td>\n",
              "      <td>0</td>\n",
              "      <td>20</td>\n",
              "      <td>0</td>\n",
              "      <td>162000.00</td>\n",
              "      <td>1.3</td>\n",
              "      <td>129</td>\n",
              "      <td>1</td>\n",
              "      <td>1</td>\n",
              "      <td>7</td>\n",
              "      <td>1</td>\n",
              "    </tr>\n",
              "    <tr>\n",
              "      <th>3</th>\n",
              "      <td>50</td>\n",
              "      <td>1</td>\n",
              "      <td>111</td>\n",
              "      <td>0</td>\n",
              "      <td>20</td>\n",
              "      <td>0</td>\n",
              "      <td>210000.00</td>\n",
              "      <td>1.9</td>\n",
              "      <td>137</td>\n",
              "      <td>1</td>\n",
              "      <td>0</td>\n",
              "      <td>7</td>\n",
              "      <td>1</td>\n",
              "    </tr>\n",
              "    <tr>\n",
              "      <th>4</th>\n",
              "      <td>65</td>\n",
              "      <td>1</td>\n",
              "      <td>160</td>\n",
              "      <td>1</td>\n",
              "      <td>20</td>\n",
              "      <td>0</td>\n",
              "      <td>327000.00</td>\n",
              "      <td>2.7</td>\n",
              "      <td>116</td>\n",
              "      <td>0</td>\n",
              "      <td>0</td>\n",
              "      <td>8</td>\n",
              "      <td>1</td>\n",
              "    </tr>\n",
              "    <tr>\n",
              "      <th>...</th>\n",
              "      <td>...</td>\n",
              "      <td>...</td>\n",
              "      <td>...</td>\n",
              "      <td>...</td>\n",
              "      <td>...</td>\n",
              "      <td>...</td>\n",
              "      <td>...</td>\n",
              "      <td>...</td>\n",
              "      <td>...</td>\n",
              "      <td>...</td>\n",
              "      <td>...</td>\n",
              "      <td>...</td>\n",
              "      <td>...</td>\n",
              "    </tr>\n",
              "    <tr>\n",
              "      <th>294</th>\n",
              "      <td>62</td>\n",
              "      <td>0</td>\n",
              "      <td>61</td>\n",
              "      <td>1</td>\n",
              "      <td>38</td>\n",
              "      <td>1</td>\n",
              "      <td>155000.00</td>\n",
              "      <td>1.1</td>\n",
              "      <td>143</td>\n",
              "      <td>1</td>\n",
              "      <td>1</td>\n",
              "      <td>270</td>\n",
              "      <td>0</td>\n",
              "    </tr>\n",
              "    <tr>\n",
              "      <th>295</th>\n",
              "      <td>55</td>\n",
              "      <td>0</td>\n",
              "      <td>1820</td>\n",
              "      <td>0</td>\n",
              "      <td>38</td>\n",
              "      <td>0</td>\n",
              "      <td>270000.00</td>\n",
              "      <td>1.2</td>\n",
              "      <td>139</td>\n",
              "      <td>0</td>\n",
              "      <td>0</td>\n",
              "      <td>271</td>\n",
              "      <td>0</td>\n",
              "    </tr>\n",
              "    <tr>\n",
              "      <th>296</th>\n",
              "      <td>45</td>\n",
              "      <td>0</td>\n",
              "      <td>2060</td>\n",
              "      <td>1</td>\n",
              "      <td>60</td>\n",
              "      <td>0</td>\n",
              "      <td>742000.00</td>\n",
              "      <td>0.8</td>\n",
              "      <td>138</td>\n",
              "      <td>0</td>\n",
              "      <td>0</td>\n",
              "      <td>278</td>\n",
              "      <td>0</td>\n",
              "    </tr>\n",
              "    <tr>\n",
              "      <th>297</th>\n",
              "      <td>45</td>\n",
              "      <td>0</td>\n",
              "      <td>2413</td>\n",
              "      <td>0</td>\n",
              "      <td>38</td>\n",
              "      <td>0</td>\n",
              "      <td>140000.00</td>\n",
              "      <td>1.4</td>\n",
              "      <td>140</td>\n",
              "      <td>1</td>\n",
              "      <td>1</td>\n",
              "      <td>280</td>\n",
              "      <td>0</td>\n",
              "    </tr>\n",
              "    <tr>\n",
              "      <th>298</th>\n",
              "      <td>50</td>\n",
              "      <td>0</td>\n",
              "      <td>196</td>\n",
              "      <td>0</td>\n",
              "      <td>45</td>\n",
              "      <td>0</td>\n",
              "      <td>395000.00</td>\n",
              "      <td>1.6</td>\n",
              "      <td>136</td>\n",
              "      <td>1</td>\n",
              "      <td>1</td>\n",
              "      <td>285</td>\n",
              "      <td>0</td>\n",
              "    </tr>\n",
              "  </tbody>\n",
              "</table>\n",
              "<p>299 rows × 13 columns</p>\n",
              "</div>\n",
              "      <button class=\"colab-df-convert\" onclick=\"convertToInteractive('df-b780171a-7f68-4d0e-8a85-7161c0b4a04a')\"\n",
              "              title=\"Convert this dataframe to an interactive table.\"\n",
              "              style=\"display:none;\">\n",
              "        \n",
              "  <svg xmlns=\"http://www.w3.org/2000/svg\" height=\"24px\"viewBox=\"0 0 24 24\"\n",
              "       width=\"24px\">\n",
              "    <path d=\"M0 0h24v24H0V0z\" fill=\"none\"/>\n",
              "    <path d=\"M18.56 5.44l.94 2.06.94-2.06 2.06-.94-2.06-.94-.94-2.06-.94 2.06-2.06.94zm-11 1L8.5 8.5l.94-2.06 2.06-.94-2.06-.94L8.5 2.5l-.94 2.06-2.06.94zm10 10l.94 2.06.94-2.06 2.06-.94-2.06-.94-.94-2.06-.94 2.06-2.06.94z\"/><path d=\"M17.41 7.96l-1.37-1.37c-.4-.4-.92-.59-1.43-.59-.52 0-1.04.2-1.43.59L10.3 9.45l-7.72 7.72c-.78.78-.78 2.05 0 2.83L4 21.41c.39.39.9.59 1.41.59.51 0 1.02-.2 1.41-.59l7.78-7.78 2.81-2.81c.8-.78.8-2.07 0-2.86zM5.41 20L4 18.59l7.72-7.72 1.47 1.35L5.41 20z\"/>\n",
              "  </svg>\n",
              "      </button>\n",
              "      \n",
              "  <style>\n",
              "    .colab-df-container {\n",
              "      display:flex;\n",
              "      flex-wrap:wrap;\n",
              "      gap: 12px;\n",
              "    }\n",
              "\n",
              "    .colab-df-convert {\n",
              "      background-color: #E8F0FE;\n",
              "      border: none;\n",
              "      border-radius: 50%;\n",
              "      cursor: pointer;\n",
              "      display: none;\n",
              "      fill: #1967D2;\n",
              "      height: 32px;\n",
              "      padding: 0 0 0 0;\n",
              "      width: 32px;\n",
              "    }\n",
              "\n",
              "    .colab-df-convert:hover {\n",
              "      background-color: #E2EBFA;\n",
              "      box-shadow: 0px 1px 2px rgba(60, 64, 67, 0.3), 0px 1px 3px 1px rgba(60, 64, 67, 0.15);\n",
              "      fill: #174EA6;\n",
              "    }\n",
              "\n",
              "    [theme=dark] .colab-df-convert {\n",
              "      background-color: #3B4455;\n",
              "      fill: #D2E3FC;\n",
              "    }\n",
              "\n",
              "    [theme=dark] .colab-df-convert:hover {\n",
              "      background-color: #434B5C;\n",
              "      box-shadow: 0px 1px 3px 1px rgba(0, 0, 0, 0.15);\n",
              "      filter: drop-shadow(0px 1px 2px rgba(0, 0, 0, 0.3));\n",
              "      fill: #FFFFFF;\n",
              "    }\n",
              "  </style>\n",
              "\n",
              "      <script>\n",
              "        const buttonEl =\n",
              "          document.querySelector('#df-b780171a-7f68-4d0e-8a85-7161c0b4a04a button.colab-df-convert');\n",
              "        buttonEl.style.display =\n",
              "          google.colab.kernel.accessAllowed ? 'block' : 'none';\n",
              "\n",
              "        async function convertToInteractive(key) {\n",
              "          const element = document.querySelector('#df-b780171a-7f68-4d0e-8a85-7161c0b4a04a');\n",
              "          const dataTable =\n",
              "            await google.colab.kernel.invokeFunction('convertToInteractive',\n",
              "                                                     [key], {});\n",
              "          if (!dataTable) return;\n",
              "\n",
              "          const docLinkHtml = 'Like what you see? Visit the ' +\n",
              "            '<a target=\"_blank\" href=https://colab.research.google.com/notebooks/data_table.ipynb>data table notebook</a>'\n",
              "            + ' to learn more about interactive tables.';\n",
              "          element.innerHTML = '';\n",
              "          dataTable['output_type'] = 'display_data';\n",
              "          await google.colab.output.renderOutput(dataTable, element);\n",
              "          const docLink = document.createElement('div');\n",
              "          docLink.innerHTML = docLinkHtml;\n",
              "          element.appendChild(docLink);\n",
              "        }\n",
              "      </script>\n",
              "    </div>\n",
              "  </div>\n",
              "  "
            ]
          },
          "metadata": {},
          "execution_count": 73
        }
      ],
      "source": [
        "df"
      ]
    },
    {
      "cell_type": "markdown",
      "metadata": {
        "id": "D1DejcZR1Iko"
      },
      "source": [
        "**Mengetahui Korelasi Atribut Pada Data Terhadap 'DEATH_EVENT' dan Fiksasi Data Yang Digunakan**"
      ]
    },
    {
      "cell_type": "code",
      "execution_count": null,
      "metadata": {
        "colab": {
          "base_uri": "https://localhost:8080/"
        },
        "id": "pWBn3z2QFEn-",
        "outputId": "e41e7b82-8e13-4eb3-9d81-c538551e06c0"
      },
      "outputs": [
        {
          "output_type": "stream",
          "name": "stdout",
          "text": [
            "                   attribute  correlation\n",
            "12               DEATH_EVENT     1.000000\n",
            "7           serum_creatinine     0.294278\n",
            "0                        age     0.253581\n",
            "5        high_blood_pressure     0.079351\n",
            "1                    anaemia     0.066270\n",
            "2   creatinine_phosphokinase     0.062728\n",
            "3                   diabetes    -0.001943\n",
            "9                        sex    -0.004316\n",
            "10                   smoking    -0.012623\n",
            "6                  platelets    -0.049139\n",
            "8               serum_sodium    -0.195204\n",
            "4          ejection_fraction    -0.268603\n",
            "11                      time    -0.526964\n"
          ]
        }
      ],
      "source": [
        "#Menghitung korelasi antara setiap atribut dengan kolom target 'DEATH_EVENT'\n",
        "corr_matrix = df.corr()\n",
        "corr_target = corr_matrix['DEATH_EVENT']\n",
        "\n",
        "#Membuat dataframe korelasi antara semua atribut terhadap kolom 'DEATH_EVENT'\n",
        "df_corr = pd.DataFrame({'attribute':corr_target.index, 'correlation':corr_target.values})\n",
        "df_corr = df_corr.sort_values(by='correlation', ascending=False)\n",
        "\n",
        "#Menampilkan dataframe korelasi antara semua atribut terhadap kolom 'DEATH_EVENT'\n",
        "print(df_corr)"
      ]
    },
    {
      "cell_type": "code",
      "execution_count": null,
      "metadata": {
        "colab": {
          "base_uri": "https://localhost:8080/",
          "height": 926
        },
        "id": "YPBC0CVyFhSr",
        "outputId": "362c7963-70b0-4519-e262-153cf237f1e1"
      },
      "outputs": [
        {
          "output_type": "display_data",
          "data": {
            "text/plain": [
              "<Figure size 1600x900 with 2 Axes>"
            ],
            "image/png": "[encoded data removed]"
          },
          "metadata": {}
        }
      ],
      "source": [
        "#Menampilkan visualisasi korelasi antar atribut\n",
        "plt.figure(figsize=(16, 9))\n",
        "sns.heatmap(df.corr(), annot=True, cmap='viridis')\n",
        "plt.show()"
      ]
    },
    {
      "cell_type": "markdown",
      "metadata": {
        "id": "WliWGMkZ1wko"
      },
      "source": [
        "**Membuat Split Data Test dan Data Train**"
      ]
    },
    {
      "cell_type": "code",
      "execution_count": null,
      "metadata": {
        "colab": {
          "base_uri": "https://localhost:8080/"
        },
        "id": "C8yaTSLw12Y6",
        "outputId": "795e5dea-ee61-46b3-ca2e-e11c4b2e1e67"
      },
      "outputs": [
        {
          "output_type": "stream",
          "name": "stdout",
          "text": [
            "     age  anaemia  creatinine_phosphokinase  diabetes  ejection_fraction  \\\n",
            "0     75        0                       582         0                 20   \n",
            "1     55        0                      7861         0                 38   \n",
            "2     65        0                       146         0                 20   \n",
            "3     50        1                       111         0                 20   \n",
            "4     65        1                       160         1                 20   \n",
            "..   ...      ...                       ...       ...                ...   \n",
            "294   62        0                        61         1                 38   \n",
            "295   55        0                      1820         0                 38   \n",
            "296   45        0                      2060         1                 60   \n",
            "297   45        0                      2413         0                 38   \n",
            "298   50        0                       196         0                 45   \n",
            "\n",
            "     high_blood_pressure  platelets  serum_creatinine  serum_sodium  sex  \\\n",
            "0                      1  265000.00               1.9           130    1   \n",
            "1                      0  263358.03               1.1           136    1   \n",
            "2                      0  162000.00               1.3           129    1   \n",
            "3                      0  210000.00               1.9           137    1   \n",
            "4                      0  327000.00               2.7           116    0   \n",
            "..                   ...        ...               ...           ...  ...   \n",
            "294                    1  155000.00               1.1           143    1   \n",
            "295                    0  270000.00               1.2           139    0   \n",
            "296                    0  742000.00               0.8           138    0   \n",
            "297                    0  140000.00               1.4           140    1   \n",
            "298                    0  395000.00               1.6           136    1   \n",
            "\n",
            "     smoking  time  \n",
            "0          0     4  \n",
            "1          0     6  \n",
            "2          1     7  \n",
            "3          0     7  \n",
            "4          0     8  \n",
            "..       ...   ...  \n",
            "294        1   270  \n",
            "295        0   271  \n",
            "296        0   278  \n",
            "297        1   280  \n",
            "298        1   285  \n",
            "\n",
            "[299 rows x 12 columns]\n",
            "0      1\n",
            "1      1\n",
            "2      1\n",
            "3      1\n",
            "4      1\n",
            "      ..\n",
            "294    0\n",
            "295    0\n",
            "296    0\n",
            "297    0\n",
            "298    0\n",
            "Name: death_event, Length: 299, dtype: int64\n"
          ]
        }
      ],
      "source": [
        "#Melakukan inisialisasi variabel X dan y\n",
        "df.rename(columns = {'DEATH_EVENT' : 'death_event'}, inplace = True)\n",
        "X = df.drop(columns = 'death_event')\n",
        "y = df['death_event']\n",
        "\n",
        "print(X)\n",
        "print(y)"
      ]
    },
    {
      "cell_type": "code",
      "execution_count": null,
      "metadata": {
        "colab": {
          "base_uri": "https://localhost:8080/"
        },
        "id": "kmTPFUGM8qrO",
        "outputId": "e652b88e-6d9b-4429-817e-55708c38b77d"
      },
      "outputs": [
        {
          "output_type": "stream",
          "name": "stdout",
          "text": [
            "Top 12 Features yang Berpengaruh\n",
            "                    Features       Score\n",
            "11                      time  114.181264\n",
            "7           serum_creatinine   28.158492\n",
            "4          ejection_fraction   23.094063\n",
            "0                        age   20.410478\n",
            "8               serum_sodium   11.765331\n",
            "5        high_blood_pressure    1.881937\n",
            "1                    anaemia    1.310096\n",
            "2   creatinine_phosphokinase    1.173259\n",
            "6                  platelets    0.718880\n",
            "10                   smoking    0.047333\n",
            "9                        sex    0.005534\n",
            "3                   diabetes    0.001121\n"
          ]
        }
      ],
      "source": [
        "topFeatures = SelectKBest(f_regression, k=12)\n",
        "fit = topFeatures.fit(X, y)\n",
        "dfscores = pd.DataFrame(fit.scores_)\n",
        "dfcolumns = pd.DataFrame(X.columns)\n",
        " \n",
        "featureScores = pd.concat([dfcolumns, dfscores], axis=1)\n",
        "featureScores.columns = ['Features', 'Score']\n",
        "\n",
        "print(\"Top 12 Features yang Berpengaruh\")\n",
        "print(featureScores.nlargest(12, 'Score'))"
      ]
    },
    {
      "cell_type": "markdown",
      "metadata": {
        "id": "bEhD3QlaI66o"
      },
      "source": [
        "Dengan menggunakan F Regression fitur yang berpengaruh dalam model yaitu 'time', 'serum_creatinine', 'ejection_fraction', 'age', 'serum_sodium', 'high_blood_pressure', 'anaemia', 'creatinine_phosphokinase'."
      ]
    },
    {
      "cell_type": "code",
      "execution_count": null,
      "metadata": {
        "id": "cZ9NOrjhHJqz"
      },
      "outputs": [],
      "source": [
        "X_fit = df[['time', 'serum_creatinine', 'ejection_fraction', 'age', 'serum_sodium', 'high_blood_pressure', 'anaemia', 'creatinine_phosphokinase']]"
      ]
    },
    {
      "cell_type": "code",
      "execution_count": null,
      "metadata": {
        "id": "_vgKRrFDIXXR"
      },
      "outputs": [],
      "source": [
        "X_train, X_test, y_train, y_test = train_test_split(X_fit, y, test_size=0.30, random_state=13)"
      ]
    },
    {
      "cell_type": "code",
      "execution_count": null,
      "metadata": {
        "colab": {
          "base_uri": "https://localhost:8080/",
          "height": 206
        },
        "id": "blm0mh5kIg-K",
        "outputId": "24951c6c-6220-4648-9be8-7b9b72641cc3"
      },
      "outputs": [
        {
          "output_type": "execute_result",
          "data": {
            "text/plain": [
              "     time  serum_creatinine  ejection_fraction  age  serum_sodium  \\\n",
              "17     14              0.80                 14   45           127   \n",
              "157   120              1.00                 25   50           136   \n",
              "92     82              1.18                 60   42           137   \n",
              "142   109              0.90                 30   50           132   \n",
              "218   197              1.10                 35   68           134   \n",
              "\n",
              "     high_blood_pressure  anaemia  creatinine_phosphokinase  \n",
              "17                     0        0                       582  \n",
              "157                    0        0                       250  \n",
              "92                     0        0                       582  \n",
              "142                    0        0                       482  \n",
              "218                    0        1                      1021  "
            ],
            "text/html": [
              "\n",
              "  <div id=\"df-1467393e-2789-46a8-86ad-d7cbdce41823\">\n",
              "    <div class=\"colab-df-container\">\n",
              "      <div>\n",
              "<style scoped>\n",
              "    .dataframe tbody tr th:only-of-type {\n",
              "        vertical-align: middle;\n",
              "    }\n",
              "\n",
              "    .dataframe tbody tr th {\n",
              "        vertical-align: top;\n",
              "    }\n",
              "\n",
              "    .dataframe thead th {\n",
              "        text-align: right;\n",
              "    }\n",
              "</style>\n",
              "<table border=\"1\" class=\"dataframe\">\n",
              "  <thead>\n",
              "    <tr style=\"text-align: right;\">\n",
              "      <th></th>\n",
              "      <th>time</th>\n",
              "      <th>serum_creatinine</th>\n",
              "      <th>ejection_fraction</th>\n",
              "      <th>age</th>\n",
              "      <th>serum_sodium</th>\n",
              "      <th>high_blood_pressure</th>\n",
              "      <th>anaemia</th>\n",
              "      <th>creatinine_phosphokinase</th>\n",
              "    </tr>\n",
              "  </thead>\n",
              "  <tbody>\n",
              "    <tr>\n",
              "      <th>17</th>\n",
              "      <td>14</td>\n",
              "      <td>0.80</td>\n",
              "      <td>14</td>\n",
              "      <td>45</td>\n",
              "      <td>127</td>\n",
              "      <td>0</td>\n",
              "      <td>0</td>\n",
              "      <td>582</td>\n",
              "    </tr>\n",
              "    <tr>\n",
              "      <th>157</th>\n",
              "      <td>120</td>\n",
              "      <td>1.00</td>\n",
              "      <td>25</td>\n",
              "      <td>50</td>\n",
              "      <td>136</td>\n",
              "      <td>0</td>\n",
              "      <td>0</td>\n",
              "      <td>250</td>\n",
              "    </tr>\n",
              "    <tr>\n",
              "      <th>92</th>\n",
              "      <td>82</td>\n",
              "      <td>1.18</td>\n",
              "      <td>60</td>\n",
              "      <td>42</td>\n",
              "      <td>137</td>\n",
              "      <td>0</td>\n",
              "      <td>0</td>\n",
              "      <td>582</td>\n",
              "    </tr>\n",
              "    <tr>\n",
              "      <th>142</th>\n",
              "      <td>109</td>\n",
              "      <td>0.90</td>\n",
              "      <td>30</td>\n",
              "      <td>50</td>\n",
              "      <td>132</td>\n",
              "      <td>0</td>\n",
              "      <td>0</td>\n",
              "      <td>482</td>\n",
              "    </tr>\n",
              "    <tr>\n",
              "      <th>218</th>\n",
              "      <td>197</td>\n",
              "      <td>1.10</td>\n",
              "      <td>35</td>\n",
              "      <td>68</td>\n",
              "      <td>134</td>\n",
              "      <td>0</td>\n",
              "      <td>1</td>\n",
              "      <td>1021</td>\n",
              "    </tr>\n",
              "  </tbody>\n",
              "</table>\n",
              "</div>\n",
              "      <button class=\"colab-df-convert\" onclick=\"convertToInteractive('df-1467393e-2789-46a8-86ad-d7cbdce41823')\"\n",
              "              title=\"Convert this dataframe to an interactive table.\"\n",
              "              style=\"display:none;\">\n",
              "        \n",
              "  <svg xmlns=\"http://www.w3.org/2000/svg\" height=\"24px\"viewBox=\"0 0 24 24\"\n",
              "       width=\"24px\">\n",
              "    <path d=\"M0 0h24v24H0V0z\" fill=\"none\"/>\n",
              "    <path d=\"M18.56 5.44l.94 2.06.94-2.06 2.06-.94-2.06-.94-.94-2.06-.94 2.06-2.06.94zm-11 1L8.5 8.5l.94-2.06 2.06-.94-2.06-.94L8.5 2.5l-.94 2.06-2.06.94zm10 10l.94 2.06.94-2.06 2.06-.94-2.06-.94-.94-2.06-.94 2.06-2.06.94z\"/><path d=\"M17.41 7.96l-1.37-1.37c-.4-.4-.92-.59-1.43-.59-.52 0-1.04.2-1.43.59L10.3 9.45l-7.72 7.72c-.78.78-.78 2.05 0 2.83L4 21.41c.39.39.9.59 1.41.59.51 0 1.02-.2 1.41-.59l7.78-7.78 2.81-2.81c.8-.78.8-2.07 0-2.86zM5.41 20L4 18.59l7.72-7.72 1.47 1.35L5.41 20z\"/>\n",
              "  </svg>\n",
              "      </button>\n",
              "      \n",
              "  <style>\n",
              "    .colab-df-container {\n",
              "      display:flex;\n",
              "      flex-wrap:wrap;\n",
              "      gap: 12px;\n",
              "    }\n",
              "\n",
              "    .colab-df-convert {\n",
              "      background-color: #E8F0FE;\n",
              "      border: none;\n",
              "      border-radius: 50%;\n",
              "      cursor: pointer;\n",
              "      display: none;\n",
              "      fill: #1967D2;\n",
              "      height: 32px;\n",
              "      padding: 0 0 0 0;\n",
              "      width: 32px;\n",
              "    }\n",
              "\n",
              "    .colab-df-convert:hover {\n",
              "      background-color: #E2EBFA;\n",
              "      box-shadow: 0px 1px 2px rgba(60, 64, 67, 0.3), 0px 1px 3px 1px rgba(60, 64, 67, 0.15);\n",
              "      fill: #174EA6;\n",
              "    }\n",
              "\n",
              "    [theme=dark] .colab-df-convert {\n",
              "      background-color: #3B4455;\n",
              "      fill: #D2E3FC;\n",
              "    }\n",
              "\n",
              "    [theme=dark] .colab-df-convert:hover {\n",
              "      background-color: #434B5C;\n",
              "      box-shadow: 0px 1px 3px 1px rgba(0, 0, 0, 0.15);\n",
              "      filter: drop-shadow(0px 1px 2px rgba(0, 0, 0, 0.3));\n",
              "      fill: #FFFFFF;\n",
              "    }\n",
              "  </style>\n",
              "\n",
              "      <script>\n",
              "        const buttonEl =\n",
              "          document.querySelector('#df-1467393e-2789-46a8-86ad-d7cbdce41823 button.colab-df-convert');\n",
              "        buttonEl.style.display =\n",
              "          google.colab.kernel.accessAllowed ? 'block' : 'none';\n",
              "\n",
              "        async function convertToInteractive(key) {\n",
              "          const element = document.querySelector('#df-1467393e-2789-46a8-86ad-d7cbdce41823');\n",
              "          const dataTable =\n",
              "            await google.colab.kernel.invokeFunction('convertToInteractive',\n",
              "                                                     [key], {});\n",
              "          if (!dataTable) return;\n",
              "\n",
              "          const docLinkHtml = 'Like what you see? Visit the ' +\n",
              "            '<a target=\"_blank\" href=https://colab.research.google.com/notebooks/data_table.ipynb>data table notebook</a>'\n",
              "            + ' to learn more about interactive tables.';\n",
              "          element.innerHTML = '';\n",
              "          dataTable['output_type'] = 'display_data';\n",
              "          await google.colab.output.renderOutput(dataTable, element);\n",
              "          const docLink = document.createElement('div');\n",
              "          docLink.innerHTML = docLinkHtml;\n",
              "          element.appendChild(docLink);\n",
              "        }\n",
              "      </script>\n",
              "    </div>\n",
              "  </div>\n",
              "  "
            ]
          },
          "metadata": {},
          "execution_count": 80
        }
      ],
      "source": [
        "X_train.head()"
      ]
    },
    {
      "cell_type": "markdown",
      "metadata": {
        "id": "GyBR4h_-KfI4"
      },
      "source": [
        "---\n",
        "##**Pendefinisian Model**\n",
        "---"
      ]
    },
    {
      "cell_type": "markdown",
      "source": [
        "Random Forest Classifier dan Ada Boost Classifier merupakan dua model yang berbasiskan  algoritma ensembled"
      ],
      "metadata": {
        "id": "2Kdwj6xLNnQx"
      }
    },
    {
      "cell_type": "code",
      "execution_count": null,
      "metadata": {
        "id": "czqbCKFq1P_l"
      },
      "outputs": [],
      "source": [
        "rf = RandomForestClassifier()\n",
        "ada = AdaBoostClassifier()"
      ]
    },
    {
      "cell_type": "markdown",
      "source": [
        "Pemilihan tiga algoritma individual (Logistic Regression, SVC, dan Decision Tree) untuk digabungkan (ensembled) menjadi satu model menggunakan Voting Classifier"
      ],
      "metadata": {
        "id": "dsdnrck4uDu7"
      }
    },
    {
      "cell_type": "code",
      "source": [
        "logit = LogisticRegression()\n",
        "dt = DecisionTreeClassifier()\n",
        "svm = SVC()"
      ],
      "metadata": {
        "id": "r6TZmPV-SJ3Z"
      },
      "execution_count": null,
      "outputs": []
    },
    {
      "cell_type": "markdown",
      "metadata": {
        "id": "uDDHQa0x1YWX"
      },
      "source": [
        "---\n",
        "##**Pelatihan Model**\n",
        "---"
      ]
    },
    {
      "cell_type": "code",
      "source": [
        "rf.fit(X_train, y_train)\n",
        "ada.fit(X_train, y_train)"
      ],
      "metadata": {
        "colab": {
          "base_uri": "https://localhost:8080/",
          "height": 75
        },
        "id": "dQPT7VH6Rdhk",
        "outputId": "c09a74df-3d36-4800-81e4-c3e662e37e11"
      },
      "execution_count": null,
      "outputs": [
        {
          "output_type": "execute_result",
          "data": {
            "text/plain": [
              "AdaBoostClassifier()"
            ],
            "text/html": [
              "<style>#sk-container-id-2 {color: black;background-color: white;}#sk-container-id-2 pre{padding: 0;}#sk-container-id-2 div.sk-toggleable {background-color: white;}#sk-container-id-2 label.sk-toggleable__label {cursor: pointer;display: block;width: 100%;margin-bottom: 0;padding: 0.3em;box-sizing: border-box;text-align: center;}#sk-container-id-2 label.sk-toggleable__label-arrow:before {content: \"▸\";float: left;margin-right: 0.25em;color: #696969;}#sk-container-id-2 label.sk-toggleable__label-arrow:hover:before {color: black;}#sk-container-id-2 div.sk-estimator:hover label.sk-toggleable__label-arrow:before {color: black;}#sk-container-id-2 div.sk-toggleable__content {max-height: 0;max-width: 0;overflow: hidden;text-align: left;background-color: #f0f8ff;}#sk-container-id-2 div.sk-toggleable__content pre {margin: 0.2em;color: black;border-radius: 0.25em;background-color: #f0f8ff;}#sk-container-id-2 input.sk-toggleable__control:checked~div.sk-toggleable__content {max-height: 200px;max-width: 100%;overflow: auto;}#sk-container-id-2 input.sk-toggleable__control:checked~label.sk-toggleable__label-arrow:before {content: \"▾\";}#sk-container-id-2 div.sk-estimator input.sk-toggleable__control:checked~label.sk-toggleable__label {background-color: #d4ebff;}#sk-container-id-2 div.sk-label input.sk-toggleable__control:checked~label.sk-toggleable__label {background-color: #d4ebff;}#sk-container-id-2 input.sk-hidden--visually {border: 0;clip: rect(1px 1px 1px 1px);clip: rect(1px, 1px, 1px, 1px);height: 1px;margin: -1px;overflow: hidden;padding: 0;position: absolute;width: 1px;}#sk-container-id-2 div.sk-estimator {font-family: monospace;background-color: #f0f8ff;border: 1px dotted black;border-radius: 0.25em;box-sizing: border-box;margin-bottom: 0.5em;}#sk-container-id-2 div.sk-estimator:hover {background-color: #d4ebff;}#sk-container-id-2 div.sk-parallel-item::after {content: \"\";width: 100%;border-bottom: 1px solid gray;flex-grow: 1;}#sk-container-id-2 div.sk-label:hover label.sk-toggleable__label {background-color: #d4ebff;}#sk-container-id-2 div.sk-serial::before {content: \"\";position: absolute;border-left: 1px solid gray;box-sizing: border-box;top: 0;bottom: 0;left: 50%;z-index: 0;}#sk-container-id-2 div.sk-serial {display: flex;flex-direction: column;align-items: center;background-color: white;padding-right: 0.2em;padding-left: 0.2em;position: relative;}#sk-container-id-2 div.sk-item {position: relative;z-index: 1;}#sk-container-id-2 div.sk-parallel {display: flex;align-items: stretch;justify-content: center;background-color: white;position: relative;}#sk-container-id-2 div.sk-item::before, #sk-container-id-2 div.sk-parallel-item::before {content: \"\";position: absolute;border-left: 1px solid gray;box-sizing: border-box;top: 0;bottom: 0;left: 50%;z-index: -1;}#sk-container-id-2 div.sk-parallel-item {display: flex;flex-direction: column;z-index: 1;position: relative;background-color: white;}#sk-container-id-2 div.sk-parallel-item:first-child::after {align-self: flex-end;width: 50%;}#sk-container-id-2 div.sk-parallel-item:last-child::after {align-self: flex-start;width: 50%;}#sk-container-id-2 div.sk-parallel-item:only-child::after {width: 0;}#sk-container-id-2 div.sk-dashed-wrapped {border: 1px dashed gray;margin: 0 0.4em 0.5em 0.4em;box-sizing: border-box;padding-bottom: 0.4em;background-color: white;}#sk-container-id-2 div.sk-label label {font-family: monospace;font-weight: bold;display: inline-block;line-height: 1.2em;}#sk-container-id-2 div.sk-label-container {text-align: center;}#sk-container-id-2 div.sk-container {/* jupyter's `normalize.less` sets `[hidden] { display: none; }` but bootstrap.min.css set `[hidden] { display: none !important; }` so we also need the `!important` here to be able to override the default hidden behavior on the sphinx rendered scikit-learn.org. See: https://github.com/scikit-learn/scikit-learn/issues/21755 */display: inline-block !important;position: relative;}#sk-container-id-2 div.sk-text-repr-fallback {display: none;}</style><div id=\"sk-container-id-2\" class=\"sk-top-container\"><div class=\"sk-text-repr-fallback\"><pre>AdaBoostClassifier()</pre><b>In a Jupyter environment, please rerun this cell to show the HTML representation or trust the notebook. <br />On GitHub, the HTML representation is unable to render, please try loading this page with nbviewer.org.</b></div><div class=\"sk-container\" hidden><div class=\"sk-item\"><div class=\"sk-estimator sk-toggleable\"><input class=\"sk-toggleable__control sk-hidden--visually\" id=\"sk-estimator-id-2\" type=\"checkbox\" checked><label for=\"sk-estimator-id-2\" class=\"sk-toggleable__label sk-toggleable__label-arrow\">AdaBoostClassifier</label><div class=\"sk-toggleable__content\"><pre>AdaBoostClassifier()</pre></div></div></div></div></div>"
            ]
          },
          "metadata": {},
          "execution_count": 83
        }
      ]
    },
    {
      "cell_type": "code",
      "execution_count": null,
      "metadata": {
        "id": "SDIG-B0e1cSV"
      },
      "outputs": [],
      "source": [
        "y_test_rf = rf.predict(X_test)\n",
        "y_test_ada = ada.predict(X_test)"
      ]
    },
    {
      "cell_type": "code",
      "source": [
        "vt = VotingClassifier(estimators=[('clf1', logit), ('clf2', dt), ('clf3', svm)], voting='hard')"
      ],
      "metadata": {
        "id": "gCSqBU3PSLhz"
      },
      "execution_count": null,
      "outputs": []
    },
    {
      "cell_type": "code",
      "source": [
        "vt.fit(X_train, y_train)\n",
        "y_test_vt = vt.predict(X_test)"
      ],
      "metadata": {
        "id": "9Ps_LFpDSQ-4"
      },
      "execution_count": null,
      "outputs": []
    },
    {
      "cell_type": "markdown",
      "metadata": {
        "id": "CminTD9T1cx0"
      },
      "source": [
        "---\n",
        "##**Evaluasi Model**\n",
        "---"
      ]
    },
    {
      "cell_type": "markdown",
      "source": [
        "Evaluasi ketiga model akan dilakukan dengan memanfaatkan library classification report yang akan menampilkan beberapa aspek penting seperti precision, recall, f1-score, dan accuracy. \n",
        "<br><br>\n",
        "Secara definisi, precision adalah perbandingan antara True Positive (TP) dengan banyaknya data yang diprediksi positif. Sedangkan untuk Recall, secara definisi adalah perbandingan antara True Positive (TP) dengan banyaknya data yang sebenarnya positif. Hal ini dapat diartikan menjadi semakin kecil False Positive (FP), membuat precision semakin besar. Sedangkan untuk recall, semakin kecil False Negative (FN) membuat recall semakin besar. Yang dimana False Positive (FP) dan False Negative (FN) adalah dua tipe error.\n",
        "<br><br>\n",
        "Kasus yang diangkat pada final project 3 ini adalah *medical testing* yang dimana model akan memprediksi apakah pasien sudah meninggal saat waktu follow-up atau belum. Terdapat dua opsi saat model melakukan prediksi, yaitu: <br>\n",
        "1. Model memprediksi pasien sudah meninggal saat waktu follow-up\n",
        "2. Model memprediksi pasien belum meninggal saat waktu follow-up\n"
      ],
      "metadata": {
        "id": "jwGOgeD1xU2K"
      }
    },
    {
      "cell_type": "markdown",
      "source": [
        "Berdasarkan dua opsi prediksi model yang telah dijabarkan, akan jauh lebih fatal jika model memprediksi pasien sudah meninggal padahal belum meninggal untuk segera dilakukan follow-up. Oleh karena itu, model sebaiknya memiliki nilai precision yang lebih tinggi. Selain nilai precision, f1-score yang baik juga berperan penting dalam mengindikasi model klasifikasi yang dibuat memiliki precision dan recall yang baik."
      ],
      "metadata": {
        "id": "9s2-4a2O1BIj"
      }
    },
    {
      "cell_type": "code",
      "execution_count": null,
      "metadata": {
        "colab": {
          "base_uri": "https://localhost:8080/"
        },
        "id": "8pLinuK61iAT",
        "outputId": "4c3bbac9-8ee4-4064-a845-207d616077bd"
      },
      "outputs": [
        {
          "output_type": "stream",
          "name": "stdout",
          "text": [
            "Metrics untuk Model Random Forest adalah : \n",
            "              precision    recall  f1-score   support\n",
            "\n",
            "           0       0.89      0.94      0.91        62\n",
            "           1       0.84      0.75      0.79        28\n",
            "\n",
            "    accuracy                           0.88        90\n",
            "   macro avg       0.87      0.84      0.85        90\n",
            "weighted avg       0.88      0.88      0.88        90\n",
            "\n"
          ]
        }
      ],
      "source": [
        "print('Metrics untuk Model Random Forest adalah : ')\n",
        "print(classification_report(y_test, y_test_rf))"
      ]
    },
    {
      "cell_type": "code",
      "source": [
        "cm_rf = confusion_matrix(y_test, y_test_rf)\n",
        " \n",
        "#membuat plotting confusion matrix\n",
        "%matplotlib inline\n",
        "plt.figure (figsize=(10,7))\n",
        "sns.heatmap(cm_rf, annot=True)\n",
        "plt.xlabel('Predicted')\n",
        "plt.ylabel('Actual')"
      ],
      "metadata": {
        "colab": {
          "base_uri": "https://localhost:8080/",
          "height": 637
        },
        "id": "1Vjs0BLZUhIs",
        "outputId": "6e33b336-586f-433d-ec4d-50eef9167fcf"
      },
      "execution_count": null,
      "outputs": [
        {
          "output_type": "execute_result",
          "data": {
            "text/plain": [
              "Text(95.72222222222221, 0.5, 'Actual')"
            ]
          },
          "metadata": {},
          "execution_count": 88
        },
        {
          "output_type": "display_data",
          "data": {
            "text/plain": [
              "<Figure size 1000x700 with 2 Axes>"
            ],
            "image/png": "[encoded data removed]"
          },
          "metadata": {}
        }
      ]
    },
    {
      "cell_type": "markdown",
      "source": [
        "**Random Forest Model**\n",
        "\n",
        "Berdasarkan classification report, dapat diketahui nilai precision(**0.87**), dan f1-score accuracy(**0.88**) yang dihasilkan oleh model. Dari hasil visualisasi menggunakan heatmap confusion matrix dapat disimpulkan bahwa:\n",
        "1. True Negative (TN): Model memprediksi **58** orang pasien belum meninggal dan memang kenyataannya, pasien itu belum meninggal.\n",
        "2. True Positive (TP): Model memprediksi **21** orang pasien sudah meninggal dan memang kenyataannya, pasien itu sudah meninggal.\n",
        "3. False Negative (FN): Model memprediksi **7** orang pasien belum meninggal, padahal pasien sudah meninggal.\n",
        "4. False Positive (FP): Model memprediksi **4** orang pasien sudah meninggal, padahal pasien belum meninggal.\n"
      ],
      "metadata": {
        "id": "VJParM5sgibA"
      }
    },
    {
      "cell_type": "code",
      "source": [
        "print('Metrics untuk Model AdaBoost adalah : ')\n",
        "print(classification_report(y_test, y_test_ada))"
      ],
      "metadata": {
        "colab": {
          "base_uri": "https://localhost:8080/"
        },
        "id": "jg6zo7M6R3AG",
        "outputId": "1aed4193-d62d-49ae-c65a-efb9c36f66e6"
      },
      "execution_count": null,
      "outputs": [
        {
          "output_type": "stream",
          "name": "stdout",
          "text": [
            "Metrics untuk Model AdaBoost adalah : \n",
            "              precision    recall  f1-score   support\n",
            "\n",
            "           0       0.85      0.90      0.88        62\n",
            "           1       0.75      0.64      0.69        28\n",
            "\n",
            "    accuracy                           0.82        90\n",
            "   macro avg       0.80      0.77      0.78        90\n",
            "weighted avg       0.82      0.82      0.82        90\n",
            "\n"
          ]
        }
      ]
    },
    {
      "cell_type": "code",
      "source": [
        "cm_ada = confusion_matrix(y_test, y_test_ada)\n",
        " \n",
        "#membuat plotting confusion matrix\n",
        "%matplotlib inline\n",
        "plt.figure (figsize=(10,7))\n",
        "sns.heatmap(cm_ada, annot=True)\n",
        "plt.xlabel('Predicted')\n",
        "plt.ylabel('Actual')"
      ],
      "metadata": {
        "colab": {
          "base_uri": "https://localhost:8080/",
          "height": 637
        },
        "id": "0E1kutrJU5K8",
        "outputId": "0a1ef986-8151-4e89-d52d-bbbf9da3c04d"
      },
      "execution_count": null,
      "outputs": [
        {
          "output_type": "execute_result",
          "data": {
            "text/plain": [
              "Text(95.72222222222221, 0.5, 'Actual')"
            ]
          },
          "metadata": {},
          "execution_count": 90
        },
        {
          "output_type": "display_data",
          "data": {
            "text/plain": [
              "<Figure size 1000x700 with 2 Axes>"
            ],
            "image/png": "[encoded data removed]"
          },
          "metadata": {}
        }
      ]
    },
    {
      "cell_type": "markdown",
      "source": [
        "**Ada Boost Model**\n",
        "\n",
        "Berdasarkan classification report, dapat diketahui nilai precision(**0.80**), dan f1-score accuracy(**0.82**) yang dihasilkan oleh model. Dari hasil visualisasi menggunakan heatmap confusion matrix dapat disimpulkan bahwa:\n",
        "1. True Negative (TN): Model memprediksi **56** orang pasien belum meninggal dan memang kenyataannya, pasien itu belum meninggal.\n",
        "2. True Positive (TP): Model memprediksi **18** orang pasien sudah meninggal dan memang kenyataannya, pasien itu sudah meninggal.\n",
        "3. False Negative (FN): Model memprediksi **10** orang pasien belum meninggal, padahal pasien sudah meninggal.\n",
        "4. False Positive (FP): Model memprediksi **6** orang pasien sudah meninggal, padahal pasien belum meninggal.\n"
      ],
      "metadata": {
        "id": "VKgii9Fzo2Nk"
      }
    },
    {
      "cell_type": "code",
      "source": [
        "print('Metrics untuk Model Voting Classifier adalah : ')\n",
        "print(classification_report(y_test, y_test_vt))"
      ],
      "metadata": {
        "colab": {
          "base_uri": "https://localhost:8080/"
        },
        "id": "NIMRtZdWR6dh",
        "outputId": "1e714cd4-31ac-4e67-d243-ad67761c4281"
      },
      "execution_count": null,
      "outputs": [
        {
          "output_type": "stream",
          "name": "stdout",
          "text": [
            "Metrics untuk Model Voting Classifier adalah : \n",
            "              precision    recall  f1-score   support\n",
            "\n",
            "           0       0.83      0.94      0.88        62\n",
            "           1       0.80      0.57      0.67        28\n",
            "\n",
            "    accuracy                           0.82        90\n",
            "   macro avg       0.81      0.75      0.77        90\n",
            "weighted avg       0.82      0.82      0.81        90\n",
            "\n"
          ]
        }
      ]
    },
    {
      "cell_type": "code",
      "source": [
        "cm_vt = confusion_matrix(y_test, y_test_vt)\n",
        " \n",
        "#membuat plotting confusion matrix\n",
        "%matplotlib inline\n",
        "plt.figure (figsize=(10,7))\n",
        "sns.heatmap(cm_vt, annot=True)\n",
        "plt.xlabel('Predicted')\n",
        "plt.ylabel('Actual')"
      ],
      "metadata": {
        "colab": {
          "base_uri": "https://localhost:8080/",
          "height": 637
        },
        "id": "MvgSdJBBVLt-",
        "outputId": "1541ad9f-3a0c-44e7-faaf-6180824d2e13"
      },
      "execution_count": null,
      "outputs": [
        {
          "output_type": "execute_result",
          "data": {
            "text/plain": [
              "Text(95.72222222222221, 0.5, 'Actual')"
            ]
          },
          "metadata": {},
          "execution_count": 92
        },
        {
          "output_type": "display_data",
          "data": {
            "text/plain": [
              "<Figure size 1000x700 with 2 Axes>"
            ],
            "image/png": "[encoded data removed]"
          },
          "metadata": {}
        }
      ]
    },
    {
      "cell_type": "markdown",
      "source": [
        "**Ensembled Model (Logistic Regression, SVC, dan Decision Tree)**\n",
        "\n",
        "Berdasarkan classification report, dapat diketahui nilai precision(**0.85**), dan f1-score accuracy(**0.84**) yang dihasilkan oleh model. Dari hasil visualisasi menggunakan heatmap confusion matrix dapat disimpulkan bahwa:\n",
        "1. True Negative (TN): Model memprediksi **59** orang pasien belum meninggal dan memang kenyataannya, pasien itu belum meninggal.\n",
        "2. True Positive (TP): Model memprediksi **17** orang pasien sudah meninggal dan memang kenyataannya, pasien itu sudah meninggal.\n",
        "3. False Negative (FN): Model memprediksi **11** orang pasien belum meninggal, padahal pasien sudah meninggal.\n",
        "4. False Positive (FP): Model memprediksi **3** orang pasien sudah meninggal, padahal pasien belum meninggal.\n"
      ],
      "metadata": {
        "id": "T_GRe4X-pGgj"
      }
    },
    {
      "cell_type": "markdown",
      "source": [
        "**Penentuan Model yang Digunakan**\n",
        "\n",
        "Berdasarkan ketiga model yang telah dilakukan evaluasi, **Random Forest** yang memiliki  nilai precision dan f1-score accuracy tertinggi diantara model lainnya. Untuk itu, model tersebutlah yang akan dipakai dalam melakukan prediksi\n"
      ],
      "metadata": {
        "id": "vcXuLmva5rdf"
      }
    },
    {
      "cell_type": "markdown",
      "metadata": {
        "id": "r0niI_H71pvF"
      },
      "source": [
        "---\n",
        "##**Model Inference**\n",
        "---"
      ]
    },
    {
      "cell_type": "code",
      "source": [
        "X_train.head()"
      ],
      "metadata": {
        "colab": {
          "base_uri": "https://localhost:8080/",
          "height": 206
        },
        "id": "f7wb26xd5vRh",
        "outputId": "32fefac7-8743-4331-95e1-e8190d8e87a3"
      },
      "execution_count": null,
      "outputs": [
        {
          "output_type": "execute_result",
          "data": {
            "text/plain": [
              "     time  serum_creatinine  ejection_fraction  age  serum_sodium  \\\n",
              "17     14              0.80                 14   45           127   \n",
              "157   120              1.00                 25   50           136   \n",
              "92     82              1.18                 60   42           137   \n",
              "142   109              0.90                 30   50           132   \n",
              "218   197              1.10                 35   68           134   \n",
              "\n",
              "     high_blood_pressure  anaemia  creatinine_phosphokinase  \n",
              "17                     0        0                       582  \n",
              "157                    0        0                       250  \n",
              "92                     0        0                       582  \n",
              "142                    0        0                       482  \n",
              "218                    0        1                      1021  "
            ],
            "text/html": [
              "\n",
              "  <div id=\"df-3e8da5b9-503a-49e1-aba5-772964d05357\">\n",
              "    <div class=\"colab-df-container\">\n",
              "      <div>\n",
              "<style scoped>\n",
              "    .dataframe tbody tr th:only-of-type {\n",
              "        vertical-align: middle;\n",
              "    }\n",
              "\n",
              "    .dataframe tbody tr th {\n",
              "        vertical-align: top;\n",
              "    }\n",
              "\n",
              "    .dataframe thead th {\n",
              "        text-align: right;\n",
              "    }\n",
              "</style>\n",
              "<table border=\"1\" class=\"dataframe\">\n",
              "  <thead>\n",
              "    <tr style=\"text-align: right;\">\n",
              "      <th></th>\n",
              "      <th>time</th>\n",
              "      <th>serum_creatinine</th>\n",
              "      <th>ejection_fraction</th>\n",
              "      <th>age</th>\n",
              "      <th>serum_sodium</th>\n",
              "      <th>high_blood_pressure</th>\n",
              "      <th>anaemia</th>\n",
              "      <th>creatinine_phosphokinase</th>\n",
              "    </tr>\n",
              "  </thead>\n",
              "  <tbody>\n",
              "    <tr>\n",
              "      <th>17</th>\n",
              "      <td>14</td>\n",
              "      <td>0.80</td>\n",
              "      <td>14</td>\n",
              "      <td>45</td>\n",
              "      <td>127</td>\n",
              "      <td>0</td>\n",
              "      <td>0</td>\n",
              "      <td>582</td>\n",
              "    </tr>\n",
              "    <tr>\n",
              "      <th>157</th>\n",
              "      <td>120</td>\n",
              "      <td>1.00</td>\n",
              "      <td>25</td>\n",
              "      <td>50</td>\n",
              "      <td>136</td>\n",
              "      <td>0</td>\n",
              "      <td>0</td>\n",
              "      <td>250</td>\n",
              "    </tr>\n",
              "    <tr>\n",
              "      <th>92</th>\n",
              "      <td>82</td>\n",
              "      <td>1.18</td>\n",
              "      <td>60</td>\n",
              "      <td>42</td>\n",
              "      <td>137</td>\n",
              "      <td>0</td>\n",
              "      <td>0</td>\n",
              "      <td>582</td>\n",
              "    </tr>\n",
              "    <tr>\n",
              "      <th>142</th>\n",
              "      <td>109</td>\n",
              "      <td>0.90</td>\n",
              "      <td>30</td>\n",
              "      <td>50</td>\n",
              "      <td>132</td>\n",
              "      <td>0</td>\n",
              "      <td>0</td>\n",
              "      <td>482</td>\n",
              "    </tr>\n",
              "    <tr>\n",
              "      <th>218</th>\n",
              "      <td>197</td>\n",
              "      <td>1.10</td>\n",
              "      <td>35</td>\n",
              "      <td>68</td>\n",
              "      <td>134</td>\n",
              "      <td>0</td>\n",
              "      <td>1</td>\n",
              "      <td>1021</td>\n",
              "    </tr>\n",
              "  </tbody>\n",
              "</table>\n",
              "</div>\n",
              "      <button class=\"colab-df-convert\" onclick=\"convertToInteractive('df-3e8da5b9-503a-49e1-aba5-772964d05357')\"\n",
              "              title=\"Convert this dataframe to an interactive table.\"\n",
              "              style=\"display:none;\">\n",
              "        \n",
              "  <svg xmlns=\"http://www.w3.org/2000/svg\" height=\"24px\"viewBox=\"0 0 24 24\"\n",
              "       width=\"24px\">\n",
              "    <path d=\"M0 0h24v24H0V0z\" fill=\"none\"/>\n",
              "    <path d=\"M18.56 5.44l.94 2.06.94-2.06 2.06-.94-2.06-.94-.94-2.06-.94 2.06-2.06.94zm-11 1L8.5 8.5l.94-2.06 2.06-.94-2.06-.94L8.5 2.5l-.94 2.06-2.06.94zm10 10l.94 2.06.94-2.06 2.06-.94-2.06-.94-.94-2.06-.94 2.06-2.06.94z\"/><path d=\"M17.41 7.96l-1.37-1.37c-.4-.4-.92-.59-1.43-.59-.52 0-1.04.2-1.43.59L10.3 9.45l-7.72 7.72c-.78.78-.78 2.05 0 2.83L4 21.41c.39.39.9.59 1.41.59.51 0 1.02-.2 1.41-.59l7.78-7.78 2.81-2.81c.8-.78.8-2.07 0-2.86zM5.41 20L4 18.59l7.72-7.72 1.47 1.35L5.41 20z\"/>\n",
              "  </svg>\n",
              "      </button>\n",
              "      \n",
              "  <style>\n",
              "    .colab-df-container {\n",
              "      display:flex;\n",
              "      flex-wrap:wrap;\n",
              "      gap: 12px;\n",
              "    }\n",
              "\n",
              "    .colab-df-convert {\n",
              "      background-color: #E8F0FE;\n",
              "      border: none;\n",
              "      border-radius: 50%;\n",
              "      cursor: pointer;\n",
              "      display: none;\n",
              "      fill: #1967D2;\n",
              "      height: 32px;\n",
              "      padding: 0 0 0 0;\n",
              "      width: 32px;\n",
              "    }\n",
              "\n",
              "    .colab-df-convert:hover {\n",
              "      background-color: #E2EBFA;\n",
              "      box-shadow: 0px 1px 2px rgba(60, 64, 67, 0.3), 0px 1px 3px 1px rgba(60, 64, 67, 0.15);\n",
              "      fill: #174EA6;\n",
              "    }\n",
              "\n",
              "    [theme=dark] .colab-df-convert {\n",
              "      background-color: #3B4455;\n",
              "      fill: #D2E3FC;\n",
              "    }\n",
              "\n",
              "    [theme=dark] .colab-df-convert:hover {\n",
              "      background-color: #434B5C;\n",
              "      box-shadow: 0px 1px 3px 1px rgba(0, 0, 0, 0.15);\n",
              "      filter: drop-shadow(0px 1px 2px rgba(0, 0, 0, 0.3));\n",
              "      fill: #FFFFFF;\n",
              "    }\n",
              "  </style>\n",
              "\n",
              "      <script>\n",
              "        const buttonEl =\n",
              "          document.querySelector('#df-3e8da5b9-503a-49e1-aba5-772964d05357 button.colab-df-convert');\n",
              "        buttonEl.style.display =\n",
              "          google.colab.kernel.accessAllowed ? 'block' : 'none';\n",
              "\n",
              "        async function convertToInteractive(key) {\n",
              "          const element = document.querySelector('#df-3e8da5b9-503a-49e1-aba5-772964d05357');\n",
              "          const dataTable =\n",
              "            await google.colab.kernel.invokeFunction('convertToInteractive',\n",
              "                                                     [key], {});\n",
              "          if (!dataTable) return;\n",
              "\n",
              "          const docLinkHtml = 'Like what you see? Visit the ' +\n",
              "            '<a target=\"_blank\" href=https://colab.research.google.com/notebooks/data_table.ipynb>data table notebook</a>'\n",
              "            + ' to learn more about interactive tables.';\n",
              "          element.innerHTML = '';\n",
              "          dataTable['output_type'] = 'display_data';\n",
              "          await google.colab.output.renderOutput(dataTable, element);\n",
              "          const docLink = document.createElement('div');\n",
              "          docLink.innerHTML = docLinkHtml;\n",
              "          element.appendChild(docLink);\n",
              "        }\n",
              "      </script>\n",
              "    </div>\n",
              "  </div>\n",
              "  "
            ]
          },
          "metadata": {},
          "execution_count": 93
        }
      ]
    },
    {
      "cell_type": "code",
      "source": [
        "X_train.info()"
      ],
      "metadata": {
        "colab": {
          "base_uri": "https://localhost:8080/"
        },
        "id": "WEY7ywh46DUy",
        "outputId": "f13ee1ee-5e94-4cbb-9915-06ba7e586871"
      },
      "execution_count": null,
      "outputs": [
        {
          "output_type": "stream",
          "name": "stdout",
          "text": [
            "<class 'pandas.core.frame.DataFrame'>\n",
            "Int64Index: 209 entries, 17 to 176\n",
            "Data columns (total 8 columns):\n",
            " #   Column                    Non-Null Count  Dtype  \n",
            "---  ------                    --------------  -----  \n",
            " 0   time                      209 non-null    int64  \n",
            " 1   serum_creatinine          209 non-null    float64\n",
            " 2   ejection_fraction         209 non-null    int64  \n",
            " 3   age                       209 non-null    int64  \n",
            " 4   serum_sodium              209 non-null    int64  \n",
            " 5   high_blood_pressure       209 non-null    int64  \n",
            " 6   anaemia                   209 non-null    int64  \n",
            " 7   creatinine_phosphokinase  209 non-null    int64  \n",
            "dtypes: float64(1), int64(7)\n",
            "memory usage: 14.7 KB\n"
          ]
        }
      ]
    },
    {
      "cell_type": "code",
      "source": [
        "time = int(input(\"Time : \"))\n",
        "serumCreatinine = float(input(\"Serum Creatinine : \"))\n",
        "ejectionFraction = int(input(\"Ejection Fraction : \"))\n",
        "age = int(input(\"Age : \"))\n",
        "serumSodium = int(input(\"Serum Sodium : \"))\n",
        "highBloodPressure = int(input(\"High Blood Pressure (T=1 F=0): \"))\n",
        "anaemia = int(input(\"Anaemia (T=1 F=0): \"))\n",
        "creatininePhosphokinase = int(input(\"Creatinine Phosphokinase : \"))\n",
        "\n",
        "userData = [time, serumCreatinine, ejectionFraction, age, serumSodium, highBloodPressure, anaemia, creatininePhosphokinase]\n",
        "\n",
        "predictRF = rf.predict([userData])\n",
        "\n",
        "if predictRF == 1 :\n",
        "  print(\"Prediksi : Pasien Meninggal\")\n",
        "else :\n",
        "  print(\"Prediksi : Pasien Belum Meninggal\")"
      ],
      "metadata": {
        "colab": {
          "base_uri": "https://localhost:8080/"
        },
        "id": "XFMQOL8E7B8Q",
        "outputId": "05e48f33-2c45-48c2-d894-ae34dccf2e25"
      },
      "execution_count": null,
      "outputs": [
        {
          "output_type": "stream",
          "name": "stdout",
          "text": [
            "Time : 98\n",
            "Serum Creatinine : 0.9\n",
            "Ejection Fraction : 17\n",
            "Age : 52\n",
            "Serum Sodium : 121\n",
            "High Blood Pressure (T=1 F=0): 1\n",
            "Anaemia (T=1 F=0): 1\n",
            "Creatinine Phosphokinase : 487\n",
            "Prediksi : Pasien Meninggal\n"
          ]
        },
        {
          "output_type": "stream",
          "name": "stderr",
          "text": [
            "/usr/local/lib/python3.10/dist-packages/sklearn/base.py:439: UserWarning: X does not have valid feature names, but RandomForestClassifier was fitted with feature names\n",
            "  warnings.warn(\n"
          ]
        }
      ]
    },
    {
      "cell_type": "markdown",
      "metadata": {
        "id": "8ObSChyJ1sLe"
      },
      "source": [
        "---\n",
        "##**Kesimpulan**\n",
        "---"
      ]
    },
    {
      "cell_type": "markdown",
      "source": [
        "1. Pada Dataset yang digunakan terdapat 13 atribut yang diperkirakan sebagai faktor yang memprediksi keselamatan pasien dari penyakit jantung. Namun setelah dilakukan analisis kami menyimpulkan untuk mengambil beberapa atribut yang menjadi faktor kuat dalam memprediksi keselamatan pasien dari penyakit jantung yaitu time, serum_creatinine, ejection_fraction, age, serum_sodium, high_blood_pressure, anaemia, creatinine_phosphokinase serta atribut DEATH_EVENT sebagai target.\n",
        "2. Dataset yang digunakan sudah tidak terdapat _missing value_ sehingga dapat langsung digunakan untuk analisis.\n",
        "3. Random Forest memiliki nilai presisi yang lebih besar dibading model lainnya yaitu sebesar 0.87 dan f1-score _accuracy_ 0.88, sehingga model ini lebih baik dalam melakukan prediksi \"death event\" penyakit kardiovaskular dibandingkan dua model lainnya.\n",
        "4. Pada percobaan _model inference_ dengan menggunakan model Random Forest dan kami memasukkan nila-nilai sebagai berikut, _Time_ 98, _Serum Creatinine_ 0.9, _Ejection Fraction_ 17, _Age_ 52, _Serum Sodium_ 121, _High Blood Pressure True_, _Anaemia True_, dan _Creatinine Phosphokinase_ 487, maka prediksi yang didapatkan adalah Pasien Meninggal.\n",
        "5. Dari hasil akurasi dan uji coba Random Forest menjadi salah satu model yang diunakan dan dapat memberikan prediksi yang cukup baik."
      ],
      "metadata": {
        "id": "XLjrwac786AN"
      }
    }
  ],
  "metadata": {
    "colab": {
      "provenance": []
    },
    "kernelspec": {
      "display_name": "Python 3",
      "name": "python3"
    },
    "language_info": {
      "name": "python"
    }
  },
  "nbformat": 4,
  "nbformat_minor": 0
}